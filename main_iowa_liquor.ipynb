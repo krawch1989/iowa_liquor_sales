{
  "nbformat": 4,
  "nbformat_minor": 0,
  "metadata": {
    "colab": {
      "name": "main_iowa_liquor.ipynb",
      "provenance": [],
      "toc_visible": true,
      "authorship_tag": "ABX9TyPfil9sSaDQSfhl/CbSiMQJ",
      "include_colab_link": true
    },
    "kernelspec": {
      "name": "python3",
      "display_name": "Python 3"
    }
  },
  "cells": [
    {
      "cell_type": "markdown",
      "metadata": {
        "id": "view-in-github",
        "colab_type": "text"
      },
      "source": [
        "<a href=\"https://colab.research.google.com/github/krawch1989/iowa_liquor_sales/blob/stage/main_iowa_liquor.ipynb\" target=\"_parent\"><img src=\"https://colab.research.google.com/assets/colab-badge.svg\" alt=\"Open In Colab\"/></a>"
      ]
    },
    {
      "cell_type": "code",
      "metadata": {
        "id": "abOXtpvCZyOt",
        "colab_type": "code",
        "colab": {}
      },
      "source": [
        "import pandas as pd\n",
        "import numpy as np\n",
        "from google.colab import auth\n",
        "auth.authenticate_user()\n",
        "from google.cloud import bigquery"
      ],
      "execution_count": 0,
      "outputs": []
    },
    {
      "cell_type": "code",
      "metadata": {
        "id": "9XF7EWGYDpJY",
        "colab_type": "code",
        "colab": {}
      },
      "source": [
        "eth_project_id = 'earnest-star-194115'\n",
        "client = bigquery.Client(project=eth_project_id)"
      ],
      "execution_count": 0,
      "outputs": []
    },
    {
      "cell_type": "code",
      "metadata": {
        "id": "jmfJLq7QDpR7",
        "colab_type": "code",
        "colab": {}
      },
      "source": [
        "sql = \"\"\"\n",
        "    SELECT *\n",
        "    FROM `bigquery-public-data.iowa_liquor_sales.sales`\n",
        "    where date BETWEEN DATE('2019-01-01') AND DATE('2019-12-31')\n",
        "\"\"\"\n",
        "\n",
        "df = client.query(sql).to_dataframe()"
      ],
      "execution_count": 0,
      "outputs": []
    },
    {
      "cell_type": "code",
      "metadata": {
        "id": "nEoQsw6oDpVm",
        "colab_type": "code",
        "colab": {}
      },
      "source": [
        "df.head()"
      ],
      "execution_count": 0,
      "outputs": []
    },
    {
      "cell_type": "code",
      "metadata": {
        "id": "WplZrSGTqA6K",
        "colab_type": "code",
        "colab": {}
      },
      "source": [
        "df.dtypes"
      ],
      "execution_count": 0,
      "outputs": []
    },
    {
      "cell_type": "code",
      "metadata": {
        "id": "XpLWYVluqqMO",
        "colab_type": "code",
        "colab": {}
      },
      "source": [
        "df.date = pd.to_datetime(df.date)\n",
        "df['dayofweek'] = df.date.dt.weekday_name\n",
        "df['month'] = df.date.dt.month_name()\n",
        "df.loc[df.month.isin(['December','January','February']),'season'] = 'winter'\n",
        "df.loc[df.month.isin(['March','April','May']),'season'] = 'spring'\n",
        "df.loc[df.month.isin(['June','July','August']),'season'] = 'summer'\n",
        "df.loc[df.month.isin(['September','October','November']),'season'] = 'autumn'"
      ],
      "execution_count": 0,
      "outputs": []
    },
    {
      "cell_type": "code",
      "metadata": {
        "id": "BkVTj2MOskA4",
        "colab_type": "code",
        "colab": {}
      },
      "source": [
        "df.store_location = df.store_location.str.replace('POINT \\(', '').str.replace(')', '').str.strip().str.split(' ')\n",
        "len(df.loc[df.store_location.isnull()])/len(df)"
      ],
      "execution_count": 0,
      "outputs": []
    },
    {
      "cell_type": "code",
      "metadata": {
        "id": "l0UxW8MBqqci",
        "colab_type": "code",
        "colab": {}
      },
      "source": [
        "df.loc[df.store_location.notnull(), 'longtitude'] = df.loc[df.store_location.notnull(), 'store_location'].apply(lambda x: x[0]).astype(float).round(4)\n",
        "df.loc[df.store_location.notnull(), 'latitude'] = df.loc[df.store_location.notnull(), 'store_location'].apply(lambda x: x[1]).astype(float).round(4)"
      ],
      "execution_count": 0,
      "outputs": []
    },
    {
      "cell_type": "code",
      "metadata": {
        "id": "TpUpuP87qqjF",
        "colab_type": "code",
        "colab": {}
      },
      "source": [
        "df.vendor_number.value_counts()"
      ],
      "execution_count": 0,
      "outputs": []
    },
    {
      "cell_type": "code",
      "metadata": {
        "id": "XbOVLximzJH7",
        "colab_type": "code",
        "colab": {}
      },
      "source": [
        "df.vendor_name.value_counts()"
      ],
      "execution_count": 0,
      "outputs": []
    },
    {
      "cell_type": "code",
      "metadata": {
        "id": "oYLi7FO5zJLq",
        "colab_type": "code",
        "colab": {}
      },
      "source": [
        "cat_number = ['store_number','county_number','category','vendor_number'] \n",
        "cat_name = ['store_name','county','category_name','vendor_name']\n",
        "for number, name in zip(cat_number, cat_name):\n",
        "  print(cat_number,cat_name)\n",
        "  frame = df[[cat_number, cat_name]].drop_duplicates(subset = cat_number)\n",
        "  del df[cat_name]\n",
        "  df = df.merge(frame, how='left', on=cat_number)\n",
        "  del df[cat_number]\n",
        "del frame"
      ],
      "execution_count": 0,
      "outputs": []
    },
    {
      "cell_type": "code",
      "metadata": {
        "id": "_iUCwqJRzJRi",
        "colab_type": "code",
        "colab": {}
      },
      "source": [
        "df.head()"
      ],
      "execution_count": 0,
      "outputs": []
    },
    {
      "cell_type": "code",
      "metadata": {
        "id": "O6k79wMqoud5",
        "colab_type": "code",
        "colab": {}
      },
      "source": [
        "df.drop(columns=['address', 'store_location'])"
      ],
      "execution_count": 0,
      "outputs": []
    },
    {
      "cell_type": "code",
      "metadata": {
        "id": "uRxyN9B_odQS",
        "colab_type": "code",
        "colab": {
          "base_uri": "https://localhost:8080/",
          "height": 221
        },
        "outputId": "6c71c441-42a6-4d79-face-10604063dce6"
      },
      "source": [
        "df.store_name.value_counts()"
      ],
      "execution_count": 23,
      "outputs": [
        {
          "output_type": "execute_result",
          "data": {
            "text/plain": [
              "Hy-Vee #3 / BDI / Des Moines           21787\n",
              "Central City 2                         17816\n",
              "Central City Liquor, Inc.              15706\n",
              "Hy-Vee Food Store / Cedar Falls        15044\n",
              "Hy-Vee Wine and Spirits / Iowa City    13503\n",
              "                                       ...  \n",
              "Katy Did's General Store                   9\n",
              "Hometown Foods - Conrad                    9\n",
              "Templeton Distilling LLC                   4\n",
              "Iowa Legendary Rye                         4\n",
              "Paradise Distilling Company                2\n",
              "Name: store_name, Length: 1759, dtype: int64"
            ]
          },
          "metadata": {
            "tags": []
          },
          "execution_count": 23
        }
      ]
    },
    {
      "cell_type": "code",
      "metadata": {
        "id": "hSCFuQ14m5Mm",
        "colab_type": "code",
        "colab": {}
      },
      "source": [
        "df.drop(columns=[])"
      ],
      "execution_count": 0,
      "outputs": []
    },
    {
      "cell_type": "code",
      "metadata": {
        "id": "4j5hJvHcm5fT",
        "colab_type": "code",
        "colab": {
          "base_uri": "https://localhost:8080/",
          "height": 442
        },
        "outputId": "11310407-e586-4e7e-acbd-2ecc219611d6"
      },
      "source": [
        ""
      ],
      "execution_count": 13,
      "outputs": [
        {
          "output_type": "execute_result",
          "data": {
            "text/plain": [
              "invoice_and_item_number     object\n",
              "date                        object\n",
              "store_number                object\n",
              "store_name                  object\n",
              "address                     object\n",
              "city                        object\n",
              "zip_code                    object\n",
              "store_location              object\n",
              "county_number               object\n",
              "county                      object\n",
              "category                    object\n",
              "category_name               object\n",
              "vendor_number               object\n",
              "vendor_name                 object\n",
              "item_number                 object\n",
              "item_description            object\n",
              "pack                         int64\n",
              "bottle_volume_ml             int64\n",
              "state_bottle_cost          float64\n",
              "state_bottle_retail        float64\n",
              "bottles_sold                 int64\n",
              "sale_dollars               float64\n",
              "volume_sold_liters         float64\n",
              "volume_sold_gallons        float64\n",
              "dtype: object"
            ]
          },
          "metadata": {
            "tags": []
          },
          "execution_count": 13
        }
      ]
    },
    {
      "cell_type": "code",
      "metadata": {
        "id": "VJURlTQunI_D",
        "colab_type": "code",
        "colab": {}
      },
      "source": [
        ""
      ],
      "execution_count": 0,
      "outputs": []
    },
    {
      "cell_type": "code",
      "metadata": {
        "id": "IlrED4_VnJCe",
        "colab_type": "code",
        "colab": {}
      },
      "source": [
        ""
      ],
      "execution_count": 0,
      "outputs": []
    },
    {
      "cell_type": "code",
      "metadata": {
        "id": "HzcAa1hZnJI1",
        "colab_type": "code",
        "colab": {}
      },
      "source": [
        ""
      ],
      "execution_count": 0,
      "outputs": []
    },
    {
      "cell_type": "code",
      "metadata": {
        "id": "jWP_sj0aGaKp",
        "colab_type": "code",
        "colab": {
          "base_uri": "https://localhost:8080/",
          "height": 34
        },
        "outputId": "f5cc16ac-bf78-41c7-9830-27b3777fc294"
      },
      "source": [
        "df.shape"
      ],
      "execution_count": 11,
      "outputs": [
        {
          "output_type": "execute_result",
          "data": {
            "text/plain": [
              "(2380345, 24)"
            ]
          },
          "metadata": {
            "tags": []
          },
          "execution_count": 11
        }
      ]
    },
    {
      "cell_type": "code",
      "metadata": {
        "id": "FYVOegcgNKPU",
        "colab_type": "code",
        "colab": {
          "base_uri": "https://localhost:8080/",
          "height": 34
        },
        "outputId": "b98c19b2-5d73-45d3-9b40-9a66e1b00db2"
      },
      "source": [
        "df.shape"
      ],
      "execution_count": 12,
      "outputs": [
        {
          "output_type": "execute_result",
          "data": {
            "text/plain": [
              "(2380345, 24)"
            ]
          },
          "metadata": {
            "tags": []
          },
          "execution_count": 12
        }
      ]
    },
    {
      "cell_type": "markdown",
      "metadata": {
        "id": "j3BgxJpCmPnQ",
        "colab_type": "text"
      },
      "source": [
        "invoice_and_item_number\tSTRING\tNULLABLE\tConcatenated invoice and line number associated with the liquor order. This provides a unique identifier for the individual liquor products included in the store order\n",
        "\n",
        "date\tDATE\tNULLABLE\tDate of order\n",
        "\n",
        "store_number\tSTRING\tNULLABLE\tUnique number assigned to the store who ordered the liquor.\n",
        "\n",
        "store_name\tSTRING\tNULLABLE\tName of store who ordered the liquor.\n",
        "\n",
        "address\tSTRING\tNULLABLE\tAddress of store who ordered the liquor.\n",
        "\n",
        "city\tSTRING\tNULLABLE\tCity where the store who ordered the liquor is located\n",
        "\n",
        "zip_code\tSTRING\tNULLABLE\tZip code where the store who ordered the liquor is located\n",
        "\n",
        "store_location\tSTRING\tNULLABLE\tLocation of store who ordered the liquor. The Address, City, State and Zip Code are geocoded to provide geographic coordinates. Accuracy of geocoding is dependent on how well the address is interpreted and the completeness of the reference data used.\n",
        "\n",
        "county_number\tSTRING\tNULLABLE\tIowa county number for the county where store who ordered the liquor is located\n",
        "\n",
        "county\tSTRING\tNULLABLE\tCounty where the store who ordered the liquor is located\n",
        "\n",
        "category\tSTRING\tNULLABLE\tCategory code associated with the liquor ordered\n",
        "\n",
        "category_name\tSTRING\tNULLABLE\tCategory of the liquor ordered.\n",
        "\n",
        "vendor_number\tSTRING\tNULLABLE\tThe vendor number of the company for the brand of liquor ordered\n",
        "\n",
        "vendor_name\tSTRING\tNULLABLE\tThe vendor name of the company for the brand of liquor ordered\n",
        "\n",
        "item_number\tSTRING\tNULLABLE\tItem number for the individual liquor product ordered.\n",
        "\n",
        "item_description\tSTRING\tNULLABLE\tDescription of the individual liquor product ordered.\n",
        "\n",
        "pack\tINTEGER\tNULLABLE\tThe number of bottles in a case for the liquor ordered\n",
        "\n",
        "bottle_volume_ml\tINTEGER\tNULLABLE\tVolume of each liquor bottle ordered in milliliters.\n",
        "\n",
        "state_bottle_cost\tFLOAT\tNULLABLE\tThe amount that Alcoholic Beverages Division paid for each bottle of liquor ordered\n",
        "\n",
        "state_bottle_retail\tFLOAT\tNULLABLE\tThe amount the store paid for each bottle of liquor ordered\n",
        "\n",
        "bottles_sold\tINTEGER\tNULLABLE\tThe number of bottles of liquor ordered by the store\n",
        "\n",
        "sale_dollars\tFLOAT\tNULLABLE\tTotal cost of liquor order (number of bottles multiplied by the state bottle retail)\n",
        "\n",
        "volume_sold_liters\tFLOAT\tNULLABLE\tTotal volume of liquor ordered in liters. (i.e. (Bottle Volume (ml) x Bottles Sold)/1,000)\n",
        "\n",
        "volume_sold_gallons\tFLOAT\tNULLABLE\tTotal volume of liquor ordered in gallons. (i.e. (Bottle Volume (ml) x Bottles Sold)/3785.411784)"
      ]
    },
    {
      "cell_type": "code",
      "metadata": {
        "id": "dJj5Z8-mNxHS",
        "colab_type": "code",
        "colab": {}
      },
      "source": [
        ""
      ],
      "execution_count": 0,
      "outputs": []
    }
  ]
}