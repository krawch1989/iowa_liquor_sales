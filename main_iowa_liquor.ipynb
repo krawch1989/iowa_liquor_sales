{
  "nbformat": 4,
  "nbformat_minor": 0,
  "metadata": {
    "colab": {
      "name": "main_iowa_liquor.ipynb",
      "provenance": [],
      "toc_visible": true,
      "authorship_tag": "ABX9TyMM4xJE+ZzhQwFCI2p6oWqw",
      "include_colab_link": true
    },
    "kernelspec": {
      "name": "python3",
      "display_name": "Python 3"
    }
  },
  "cells": [
    {
      "cell_type": "markdown",
      "metadata": {
        "id": "view-in-github",
        "colab_type": "text"
      },
      "source": [
        "<a href=\"https://colab.research.google.com/github/krawch1989/iowa_liquor_sales/blob/stage/main_iowa_liquor.ipynb\" target=\"_parent\"><img src=\"https://colab.research.google.com/assets/colab-badge.svg\" alt=\"Open In Colab\"/></a>"
      ]
    },
    {
      "cell_type": "code",
      "metadata": {
        "id": "abOXtpvCZyOt",
        "colab_type": "code",
        "colab": {}
      },
      "source": [
        "import pandas as pd\n",
        "import numpy as np\n",
        "from google.colab import auth\n",
        "auth.authenticate_user()\n",
        "from google.cloud import bigquery"
      ],
      "execution_count": 0,
      "outputs": []
    },
    {
      "cell_type": "code",
      "metadata": {
        "id": "9XF7EWGYDpJY",
        "colab_type": "code",
        "colab": {}
      },
      "source": [
        "eth_project_id = 'earnest-star-194115'\n",
        "client = bigquery.Client(project=eth_project_id)"
      ],
      "execution_count": 0,
      "outputs": []
    },
    {
      "cell_type": "code",
      "metadata": {
        "id": "jmfJLq7QDpR7",
        "colab_type": "code",
        "colab": {}
      },
      "source": [
        "sql = \"\"\"\n",
        "    SELECT *\n",
        "    FROM `bigquery-public-data.iowa_liquor_sales.sales`\n",
        "    where date BETWEEN DATE('2019-01-01') AND DATE('2019-12-31')\n",
        "\"\"\"\n",
        "\n",
        "df = client.query(sql).to_dataframe()"
      ],
      "execution_count": 0,
      "outputs": []
    },
    {
      "cell_type": "code",
      "metadata": {
        "id": "nEoQsw6oDpVm",
        "colab_type": "code",
        "colab": {
          "base_uri": "https://localhost:8080/",
          "height": 394
        },
        "outputId": "b2d6971b-e231-4c82-c6b8-7e2f245d5745"
      },
      "source": [
        "df.head()"
      ],
      "execution_count": 5,
      "outputs": [
        {
          "output_type": "execute_result",
          "data": {
            "text/html": [
              "<div>\n",
              "<style scoped>\n",
              "    .dataframe tbody tr th:only-of-type {\n",
              "        vertical-align: middle;\n",
              "    }\n",
              "\n",
              "    .dataframe tbody tr th {\n",
              "        vertical-align: top;\n",
              "    }\n",
              "\n",
              "    .dataframe thead th {\n",
              "        text-align: right;\n",
              "    }\n",
              "</style>\n",
              "<table border=\"1\" class=\"dataframe\">\n",
              "  <thead>\n",
              "    <tr style=\"text-align: right;\">\n",
              "      <th></th>\n",
              "      <th>invoice_and_item_number</th>\n",
              "      <th>date</th>\n",
              "      <th>store_number</th>\n",
              "      <th>store_name</th>\n",
              "      <th>address</th>\n",
              "      <th>city</th>\n",
              "      <th>zip_code</th>\n",
              "      <th>store_location</th>\n",
              "      <th>county_number</th>\n",
              "      <th>county</th>\n",
              "      <th>category</th>\n",
              "      <th>category_name</th>\n",
              "      <th>vendor_number</th>\n",
              "      <th>vendor_name</th>\n",
              "      <th>item_number</th>\n",
              "      <th>item_description</th>\n",
              "      <th>pack</th>\n",
              "      <th>bottle_volume_ml</th>\n",
              "      <th>state_bottle_cost</th>\n",
              "      <th>state_bottle_retail</th>\n",
              "      <th>bottles_sold</th>\n",
              "      <th>sale_dollars</th>\n",
              "      <th>volume_sold_liters</th>\n",
              "      <th>volume_sold_gallons</th>\n",
              "    </tr>\n",
              "  </thead>\n",
              "  <tbody>\n",
              "    <tr>\n",
              "      <th>0</th>\n",
              "      <td>INV-23523500115</td>\n",
              "      <td>2019-11-26</td>\n",
              "      <td>2621</td>\n",
              "      <td>Hy-Vee Food Store #3 / Sioux City</td>\n",
              "      <td>3301 Gordon Dr</td>\n",
              "      <td>Sioux City</td>\n",
              "      <td>51105</td>\n",
              "      <td>POINT (-96.364108 42.487752)</td>\n",
              "      <td>97</td>\n",
              "      <td>WOODBURY</td>\n",
              "      <td>1062100</td>\n",
              "      <td>Gold Rum</td>\n",
              "      <td>434</td>\n",
              "      <td>LUXCO INC</td>\n",
              "      <td>45248</td>\n",
              "      <td>Paramount Gold Rum</td>\n",
              "      <td>6</td>\n",
              "      <td>1750</td>\n",
              "      <td>7.84</td>\n",
              "      <td>11.76</td>\n",
              "      <td>12</td>\n",
              "      <td>141.12</td>\n",
              "      <td>21.00</td>\n",
              "      <td>5.54</td>\n",
              "    </tr>\n",
              "    <tr>\n",
              "      <th>1</th>\n",
              "      <td>INV-23553700006</td>\n",
              "      <td>2019-11-29</td>\n",
              "      <td>2636</td>\n",
              "      <td>Hy-Vee Wine and Spirits / Hubbell</td>\n",
              "      <td>2310 Hubbell Ave</td>\n",
              "      <td>Des Moines</td>\n",
              "      <td>50317</td>\n",
              "      <td>POINT (-93.573845 41.604312)</td>\n",
              "      <td>77</td>\n",
              "      <td>POLK</td>\n",
              "      <td>1081100</td>\n",
              "      <td>Coffee Liqueurs</td>\n",
              "      <td>370</td>\n",
              "      <td>PERNOD RICARD USA</td>\n",
              "      <td>67522</td>\n",
              "      <td>Kahlua Coffee Mini</td>\n",
              "      <td>12</td>\n",
              "      <td>50</td>\n",
              "      <td>6.60</td>\n",
              "      <td>9.90</td>\n",
              "      <td>1</td>\n",
              "      <td>9.90</td>\n",
              "      <td>0.05</td>\n",
              "      <td>0.01</td>\n",
              "    </tr>\n",
              "    <tr>\n",
              "      <th>2</th>\n",
              "      <td>INV-19815000029</td>\n",
              "      <td>2019-06-05</td>\n",
              "      <td>5257</td>\n",
              "      <td>MAD Ave Quik Shop</td>\n",
              "      <td>405, Madison Ave</td>\n",
              "      <td>Ottumwa</td>\n",
              "      <td>52501</td>\n",
              "      <td>None</td>\n",
              "      <td>90</td>\n",
              "      <td>WAPELLO</td>\n",
              "      <td>1041300</td>\n",
              "      <td>American Sloe Gins</td>\n",
              "      <td>434</td>\n",
              "      <td>LUXCO INC</td>\n",
              "      <td>33717</td>\n",
              "      <td>Paramount Sloe Gin</td>\n",
              "      <td>12</td>\n",
              "      <td>1000</td>\n",
              "      <td>5.42</td>\n",
              "      <td>8.13</td>\n",
              "      <td>2</td>\n",
              "      <td>16.26</td>\n",
              "      <td>2.00</td>\n",
              "      <td>0.52</td>\n",
              "    </tr>\n",
              "    <tr>\n",
              "      <th>3</th>\n",
              "      <td>INV-20031500098</td>\n",
              "      <td>2019-06-17</td>\n",
              "      <td>4167</td>\n",
              "      <td>Iowa Street Market, Inc.</td>\n",
              "      <td>1256 Iowa St</td>\n",
              "      <td>Dubuque</td>\n",
              "      <td>52001</td>\n",
              "      <td>POINT (-90.668138 42.504959)</td>\n",
              "      <td>31</td>\n",
              "      <td>DUBUQUE</td>\n",
              "      <td>1042100</td>\n",
              "      <td>Imported Dry Gins</td>\n",
              "      <td>260</td>\n",
              "      <td>DIAGEO AMERICAS</td>\n",
              "      <td>28867</td>\n",
              "      <td>Tanqueray Gin</td>\n",
              "      <td>12</td>\n",
              "      <td>1000</td>\n",
              "      <td>15.50</td>\n",
              "      <td>23.25</td>\n",
              "      <td>4</td>\n",
              "      <td>93.00</td>\n",
              "      <td>4.00</td>\n",
              "      <td>1.05</td>\n",
              "    </tr>\n",
              "    <tr>\n",
              "      <th>4</th>\n",
              "      <td>INV-17159700003</td>\n",
              "      <td>2019-01-25</td>\n",
              "      <td>4650</td>\n",
              "      <td>Loofts on 9 Liquor Here or Liquor There</td>\n",
              "      <td>202, W 4th Ave</td>\n",
              "      <td>Swea City</td>\n",
              "      <td>50590</td>\n",
              "      <td>POINT (-94.30874900000002 43.38496)</td>\n",
              "      <td>55</td>\n",
              "      <td>KOSSUTH</td>\n",
              "      <td>1081100</td>\n",
              "      <td>Coffee Liqueurs</td>\n",
              "      <td>065</td>\n",
              "      <td>Jim Beam Brands</td>\n",
              "      <td>67557</td>\n",
              "      <td>Kamora Coffee Liqueur</td>\n",
              "      <td>12</td>\n",
              "      <td>1000</td>\n",
              "      <td>8.39</td>\n",
              "      <td>12.59</td>\n",
              "      <td>4</td>\n",
              "      <td>50.36</td>\n",
              "      <td>4.00</td>\n",
              "      <td>1.05</td>\n",
              "    </tr>\n",
              "  </tbody>\n",
              "</table>\n",
              "</div>"
            ],
            "text/plain": [
              "  invoice_and_item_number        date  ... volume_sold_liters volume_sold_gallons\n",
              "0         INV-23523500115  2019-11-26  ...              21.00                5.54\n",
              "1         INV-23553700006  2019-11-29  ...               0.05                0.01\n",
              "2         INV-19815000029  2019-06-05  ...               2.00                0.52\n",
              "3         INV-20031500098  2019-06-17  ...               4.00                1.05\n",
              "4         INV-17159700003  2019-01-25  ...               4.00                1.05\n",
              "\n",
              "[5 rows x 24 columns]"
            ]
          },
          "metadata": {
            "tags": []
          },
          "execution_count": 5
        }
      ]
    },
    {
      "cell_type": "code",
      "metadata": {
        "id": "WplZrSGTqA6K",
        "colab_type": "code",
        "colab": {
          "base_uri": "https://localhost:8080/",
          "height": 442
        },
        "outputId": "92d8d4ae-0a83-4283-cad1-baca97a91ed5"
      },
      "source": [
        "df.dtypes"
      ],
      "execution_count": 6,
      "outputs": [
        {
          "output_type": "execute_result",
          "data": {
            "text/plain": [
              "invoice_and_item_number     object\n",
              "date                        object\n",
              "store_number                object\n",
              "store_name                  object\n",
              "address                     object\n",
              "city                        object\n",
              "zip_code                    object\n",
              "store_location              object\n",
              "county_number               object\n",
              "county                      object\n",
              "category                    object\n",
              "category_name               object\n",
              "vendor_number               object\n",
              "vendor_name                 object\n",
              "item_number                 object\n",
              "item_description            object\n",
              "pack                         int64\n",
              "bottle_volume_ml             int64\n",
              "state_bottle_cost          float64\n",
              "state_bottle_retail        float64\n",
              "bottles_sold                 int64\n",
              "sale_dollars               float64\n",
              "volume_sold_liters         float64\n",
              "volume_sold_gallons        float64\n",
              "dtype: object"
            ]
          },
          "metadata": {
            "tags": []
          },
          "execution_count": 6
        }
      ]
    },
    {
      "cell_type": "code",
      "metadata": {
        "id": "XpLWYVluqqMO",
        "colab_type": "code",
        "colab": {}
      },
      "source": [
        "df.date = pd.to_datetime(df.date)\n",
        "df['dayofweek'] = df.date.dt.weekday_name\n",
        "df['month'] = df.date.dt.month_name()\n",
        "df.loc[df.month.isin(['December','January','February']),'season'] = 'winter'\n",
        "df.loc[df.month.isin(['March','April','May']),'season'] = 'spring'\n",
        "df.loc[df.month.isin(['June','July','August']),'season'] = 'summer'\n",
        "df.loc[df.month.isin(['September','October','November']),'season'] = 'autumn'"
      ],
      "execution_count": 0,
      "outputs": []
    },
    {
      "cell_type": "code",
      "metadata": {
        "id": "BkVTj2MOskA4",
        "colab_type": "code",
        "colab": {
          "base_uri": "https://localhost:8080/",
          "height": 34
        },
        "outputId": "45536330-6690-4ef8-894a-1d038d365371"
      },
      "source": [
        "df.store_location = df.store_location.str.replace('POINT \\(', '').str.replace(')', '').str.strip().str.split(' ')\n",
        "len(df.loc[df.store_location.isnull()])/len(df)"
      ],
      "execution_count": 8,
      "outputs": [
        {
          "output_type": "execute_result",
          "data": {
            "text/plain": [
              "0.09216731188126091"
            ]
          },
          "metadata": {
            "tags": []
          },
          "execution_count": 8
        }
      ]
    },
    {
      "cell_type": "code",
      "metadata": {
        "id": "l0UxW8MBqqci",
        "colab_type": "code",
        "colab": {}
      },
      "source": [
        "df.loc[df.store_location.notnull(), 'longtitude'] = df.loc[df.store_location.notnull(), 'store_location'].apply(lambda x: x[0]).astype(float).round(4)\n",
        "df.loc[df.store_location.notnull(), 'latitude'] = df.loc[df.store_location.notnull(), 'store_location'].apply(lambda x: x[1]).astype(float).round(4)"
      ],
      "execution_count": 0,
      "outputs": []
    },
    {
      "cell_type": "code",
      "metadata": {
        "id": "TpUpuP87qqjF",
        "colab_type": "code",
        "colab": {
          "base_uri": "https://localhost:8080/",
          "height": 221
        },
        "outputId": "112c6f35-3d5d-468e-bb20-4bce4480b098"
      },
      "source": [
        "df.vendor_number.value_counts()"
      ],
      "execution_count": 10,
      "outputs": [
        {
          "output_type": "execute_result",
          "data": {
            "text/plain": [
              "260    387247\n",
              "065    215190\n",
              "421    201695\n",
              "434    189225\n",
              "370    136899\n",
              "        ...  \n",
              "603         1\n",
              "435         1\n",
              "624         1\n",
              "561         1\n",
              "585         1\n",
              "Name: vendor_number, Length: 191, dtype: int64"
            ]
          },
          "metadata": {
            "tags": []
          },
          "execution_count": 10
        }
      ]
    },
    {
      "cell_type": "code",
      "metadata": {
        "id": "XbOVLximzJH7",
        "colab_type": "code",
        "colab": {
          "base_uri": "https://localhost:8080/",
          "height": 221
        },
        "outputId": "e4ae8072-8a65-4e71-fde4-cb61e8d563cd"
      },
      "source": [
        "df.vendor_name.value_counts()"
      ],
      "execution_count": 11,
      "outputs": [
        {
          "output_type": "execute_result",
          "data": {
            "text/plain": [
              "DIAGEO AMERICAS                387247\n",
              "Jim Beam Brands                215190\n",
              "SAZERAC COMPANY  INC           201695\n",
              "LUXCO INC                      189225\n",
              "PERNOD RICARD USA              136899\n",
              "                                ...  \n",
              "Black Sea Imports, Inc              1\n",
              "Strong Spirits Distilling           1\n",
              "Mutual Wholesale Liquor Inc         1\n",
              "US Stone Castle Imports LLC         1\n",
              "Luxe Vintages LLC                   1\n",
              "Name: vendor_name, Length: 192, dtype: int64"
            ]
          },
          "metadata": {
            "tags": []
          },
          "execution_count": 11
        }
      ]
    },
    {
      "cell_type": "code",
      "metadata": {
        "id": "oYLi7FO5zJLq",
        "colab_type": "code",
        "colab": {
          "base_uri": "https://localhost:8080/",
          "height": 85
        },
        "outputId": "91ab49b9-6bfd-4e12-afec-c106370e94ac"
      },
      "source": [
        "cat_number = ['store_number','county_number','category','vendor_number'] \n",
        "cat_name = ['store_name','county','category_name','vendor_name']\n",
        "for number, name in zip(cat_number, cat_name):\n",
        "  print(number,name)\n",
        "  frame = df[[number, name]].drop_duplicates(subset = number)\n",
        "  del df[name]\n",
        "  df = df.merge(frame, how='left', on=number)\n",
        "  del df[number]\n",
        "del frame"
      ],
      "execution_count": 12,
      "outputs": [
        {
          "output_type": "stream",
          "text": [
            "store_number store_name\n",
            "county_number county\n",
            "category category_name\n",
            "vendor_number vendor_name\n"
          ],
          "name": "stdout"
        }
      ]
    },
    {
      "cell_type": "code",
      "metadata": {
        "id": "VQv8yX6IjWWy",
        "colab_type": "code",
        "colab": {}
      },
      "source": [
        "df = df.drop(columns=['address', 'store_location'])"
      ],
      "execution_count": 0,
      "outputs": []
    },
    {
      "cell_type": "code",
      "metadata": {
        "id": "dTd_nIpLkbWH",
        "colab_type": "code",
        "colab": {}
      },
      "source": [
        ""
      ],
      "execution_count": 0,
      "outputs": []
    },
    {
      "cell_type": "code",
      "metadata": {
        "id": "4ObRoqhCkbgy",
        "colab_type": "code",
        "colab": {}
      },
      "source": [
        ""
      ],
      "execution_count": 0,
      "outputs": []
    },
    {
      "cell_type": "code",
      "metadata": {
        "id": "9dPwpgqekbkd",
        "colab_type": "code",
        "colab": {}
      },
      "source": [
        ""
      ],
      "execution_count": 0,
      "outputs": []
    },
    {
      "cell_type": "code",
      "metadata": {
        "id": "EtREROtqkbpv",
        "colab_type": "code",
        "colab": {}
      },
      "source": [
        ""
      ],
      "execution_count": 0,
      "outputs": []
    },
    {
      "cell_type": "code",
      "metadata": {
        "id": "1if_BxS-kbx9",
        "colab_type": "code",
        "colab": {}
      },
      "source": [
        ""
      ],
      "execution_count": 0,
      "outputs": []
    },
    {
      "cell_type": "code",
      "metadata": {
        "id": "_iUCwqJRzJRi",
        "colab_type": "code",
        "colab": {
          "base_uri": "https://localhost:8080/",
          "height": 377
        },
        "outputId": "62dc7b86-2615-4411-ca1f-22914d806018"
      },
      "source": [
        "df.head()"
      ],
      "execution_count": 17,
      "outputs": [
        {
          "output_type": "execute_result",
          "data": {
            "text/html": [
              "<div>\n",
              "<style scoped>\n",
              "    .dataframe tbody tr th:only-of-type {\n",
              "        vertical-align: middle;\n",
              "    }\n",
              "\n",
              "    .dataframe tbody tr th {\n",
              "        vertical-align: top;\n",
              "    }\n",
              "\n",
              "    .dataframe thead th {\n",
              "        text-align: right;\n",
              "    }\n",
              "</style>\n",
              "<table border=\"1\" class=\"dataframe\">\n",
              "  <thead>\n",
              "    <tr style=\"text-align: right;\">\n",
              "      <th></th>\n",
              "      <th>invoice_and_item_number</th>\n",
              "      <th>date</th>\n",
              "      <th>city</th>\n",
              "      <th>zip_code</th>\n",
              "      <th>item_number</th>\n",
              "      <th>item_description</th>\n",
              "      <th>pack</th>\n",
              "      <th>bottle_volume_ml</th>\n",
              "      <th>state_bottle_cost</th>\n",
              "      <th>state_bottle_retail</th>\n",
              "      <th>bottles_sold</th>\n",
              "      <th>sale_dollars</th>\n",
              "      <th>volume_sold_liters</th>\n",
              "      <th>volume_sold_gallons</th>\n",
              "      <th>dayofweek</th>\n",
              "      <th>month</th>\n",
              "      <th>season</th>\n",
              "      <th>longtitude</th>\n",
              "      <th>latitude</th>\n",
              "      <th>store_name</th>\n",
              "      <th>county</th>\n",
              "      <th>category_name</th>\n",
              "      <th>vendor_name</th>\n",
              "    </tr>\n",
              "  </thead>\n",
              "  <tbody>\n",
              "    <tr>\n",
              "      <th>0</th>\n",
              "      <td>INV-23523500115</td>\n",
              "      <td>2019-11-26</td>\n",
              "      <td>Sioux City</td>\n",
              "      <td>51105</td>\n",
              "      <td>45248</td>\n",
              "      <td>Paramount Gold Rum</td>\n",
              "      <td>6</td>\n",
              "      <td>1750</td>\n",
              "      <td>7.84</td>\n",
              "      <td>11.76</td>\n",
              "      <td>12</td>\n",
              "      <td>141.12</td>\n",
              "      <td>21.00</td>\n",
              "      <td>5.54</td>\n",
              "      <td>Tuesday</td>\n",
              "      <td>November</td>\n",
              "      <td>autumn</td>\n",
              "      <td>-96.3641</td>\n",
              "      <td>42.4878</td>\n",
              "      <td>Hy-Vee Food Store #3 / Sioux City</td>\n",
              "      <td>WOODBURY</td>\n",
              "      <td>Gold Rum</td>\n",
              "      <td>LUXCO INC</td>\n",
              "    </tr>\n",
              "    <tr>\n",
              "      <th>1</th>\n",
              "      <td>INV-23553700006</td>\n",
              "      <td>2019-11-29</td>\n",
              "      <td>Des Moines</td>\n",
              "      <td>50317</td>\n",
              "      <td>67522</td>\n",
              "      <td>Kahlua Coffee Mini</td>\n",
              "      <td>12</td>\n",
              "      <td>50</td>\n",
              "      <td>6.60</td>\n",
              "      <td>9.90</td>\n",
              "      <td>1</td>\n",
              "      <td>9.90</td>\n",
              "      <td>0.05</td>\n",
              "      <td>0.01</td>\n",
              "      <td>Friday</td>\n",
              "      <td>November</td>\n",
              "      <td>autumn</td>\n",
              "      <td>-93.5738</td>\n",
              "      <td>41.6043</td>\n",
              "      <td>Hy-Vee Wine and Spirits / Hubbell</td>\n",
              "      <td>POLK</td>\n",
              "      <td>Coffee Liqueurs</td>\n",
              "      <td>PERNOD RICARD USA</td>\n",
              "    </tr>\n",
              "    <tr>\n",
              "      <th>2</th>\n",
              "      <td>INV-19815000029</td>\n",
              "      <td>2019-06-05</td>\n",
              "      <td>Ottumwa</td>\n",
              "      <td>52501</td>\n",
              "      <td>33717</td>\n",
              "      <td>Paramount Sloe Gin</td>\n",
              "      <td>12</td>\n",
              "      <td>1000</td>\n",
              "      <td>5.42</td>\n",
              "      <td>8.13</td>\n",
              "      <td>2</td>\n",
              "      <td>16.26</td>\n",
              "      <td>2.00</td>\n",
              "      <td>0.52</td>\n",
              "      <td>Wednesday</td>\n",
              "      <td>June</td>\n",
              "      <td>summer</td>\n",
              "      <td>NaN</td>\n",
              "      <td>NaN</td>\n",
              "      <td>MAD Ave Quik Shop</td>\n",
              "      <td>WAPELLO</td>\n",
              "      <td>American Sloe Gins</td>\n",
              "      <td>LUXCO INC</td>\n",
              "    </tr>\n",
              "    <tr>\n",
              "      <th>3</th>\n",
              "      <td>INV-20031500098</td>\n",
              "      <td>2019-06-17</td>\n",
              "      <td>Dubuque</td>\n",
              "      <td>52001</td>\n",
              "      <td>28867</td>\n",
              "      <td>Tanqueray Gin</td>\n",
              "      <td>12</td>\n",
              "      <td>1000</td>\n",
              "      <td>15.50</td>\n",
              "      <td>23.25</td>\n",
              "      <td>4</td>\n",
              "      <td>93.00</td>\n",
              "      <td>4.00</td>\n",
              "      <td>1.05</td>\n",
              "      <td>Monday</td>\n",
              "      <td>June</td>\n",
              "      <td>summer</td>\n",
              "      <td>-90.6681</td>\n",
              "      <td>42.5050</td>\n",
              "      <td>Iowa Street Market, Inc.</td>\n",
              "      <td>DUBUQUE</td>\n",
              "      <td>Imported Dry Gins</td>\n",
              "      <td>DIAGEO AMERICAS</td>\n",
              "    </tr>\n",
              "    <tr>\n",
              "      <th>4</th>\n",
              "      <td>INV-17159700003</td>\n",
              "      <td>2019-01-25</td>\n",
              "      <td>Swea City</td>\n",
              "      <td>50590</td>\n",
              "      <td>67557</td>\n",
              "      <td>Kamora Coffee Liqueur</td>\n",
              "      <td>12</td>\n",
              "      <td>1000</td>\n",
              "      <td>8.39</td>\n",
              "      <td>12.59</td>\n",
              "      <td>4</td>\n",
              "      <td>50.36</td>\n",
              "      <td>4.00</td>\n",
              "      <td>1.05</td>\n",
              "      <td>Friday</td>\n",
              "      <td>January</td>\n",
              "      <td>winter</td>\n",
              "      <td>-94.3087</td>\n",
              "      <td>43.3850</td>\n",
              "      <td>Loofts on 9 Liquor Here or Liquor There</td>\n",
              "      <td>KOSSUTH</td>\n",
              "      <td>Coffee Liqueurs</td>\n",
              "      <td>Jim Beam Brands</td>\n",
              "    </tr>\n",
              "  </tbody>\n",
              "</table>\n",
              "</div>"
            ],
            "text/plain": [
              "  invoice_and_item_number       date  ...       category_name        vendor_name\n",
              "0         INV-23523500115 2019-11-26  ...            Gold Rum          LUXCO INC\n",
              "1         INV-23553700006 2019-11-29  ...     Coffee Liqueurs  PERNOD RICARD USA\n",
              "2         INV-19815000029 2019-06-05  ...  American Sloe Gins          LUXCO INC\n",
              "3         INV-20031500098 2019-06-17  ...   Imported Dry Gins    DIAGEO AMERICAS\n",
              "4         INV-17159700003 2019-01-25  ...     Coffee Liqueurs    Jim Beam Brands\n",
              "\n",
              "[5 rows x 23 columns]"
            ]
          },
          "metadata": {
            "tags": []
          },
          "execution_count": 17
        }
      ]
    },
    {
      "cell_type": "code",
      "metadata": {
        "id": "O6k79wMqoud5",
        "colab_type": "code",
        "colab": {
          "base_uri": "https://localhost:8080/",
          "height": 297
        },
        "outputId": "3743fe65-f56e-4a25-8df0-b315b70392a5"
      },
      "source": [
        "df[['pack','bottle_volume_ml','state_bottle_cost','state_bottle_retail','bottles_sold','sale_dollars','volume_sold_liters','volume_sold_gallons']].corr()"
      ],
      "execution_count": 19,
      "outputs": [
        {
          "output_type": "execute_result",
          "data": {
            "text/html": [
              "<div>\n",
              "<style scoped>\n",
              "    .dataframe tbody tr th:only-of-type {\n",
              "        vertical-align: middle;\n",
              "    }\n",
              "\n",
              "    .dataframe tbody tr th {\n",
              "        vertical-align: top;\n",
              "    }\n",
              "\n",
              "    .dataframe thead th {\n",
              "        text-align: right;\n",
              "    }\n",
              "</style>\n",
              "<table border=\"1\" class=\"dataframe\">\n",
              "  <thead>\n",
              "    <tr style=\"text-align: right;\">\n",
              "      <th></th>\n",
              "      <th>pack</th>\n",
              "      <th>bottle_volume_ml</th>\n",
              "      <th>state_bottle_cost</th>\n",
              "      <th>state_bottle_retail</th>\n",
              "      <th>bottles_sold</th>\n",
              "      <th>sale_dollars</th>\n",
              "      <th>volume_sold_liters</th>\n",
              "      <th>volume_sold_gallons</th>\n",
              "    </tr>\n",
              "  </thead>\n",
              "  <tbody>\n",
              "    <tr>\n",
              "      <th>pack</th>\n",
              "      <td>1.000000</td>\n",
              "      <td>-0.566593</td>\n",
              "      <td>-0.362614</td>\n",
              "      <td>-0.362578</td>\n",
              "      <td>0.178760</td>\n",
              "      <td>-0.048062</td>\n",
              "      <td>-0.051640</td>\n",
              "      <td>-0.051664</td>\n",
              "    </tr>\n",
              "    <tr>\n",
              "      <th>bottle_volume_ml</th>\n",
              "      <td>-0.566593</td>\n",
              "      <td>1.000000</td>\n",
              "      <td>0.261140</td>\n",
              "      <td>0.261094</td>\n",
              "      <td>-0.031679</td>\n",
              "      <td>0.078748</td>\n",
              "      <td>0.133912</td>\n",
              "      <td>0.133981</td>\n",
              "    </tr>\n",
              "    <tr>\n",
              "      <th>state_bottle_cost</th>\n",
              "      <td>-0.362614</td>\n",
              "      <td>0.261140</td>\n",
              "      <td>1.000000</td>\n",
              "      <td>0.999831</td>\n",
              "      <td>-0.070305</td>\n",
              "      <td>0.115701</td>\n",
              "      <td>0.006553</td>\n",
              "      <td>0.006553</td>\n",
              "    </tr>\n",
              "    <tr>\n",
              "      <th>state_bottle_retail</th>\n",
              "      <td>-0.362578</td>\n",
              "      <td>0.261094</td>\n",
              "      <td>0.999831</td>\n",
              "      <td>1.000000</td>\n",
              "      <td>-0.070294</td>\n",
              "      <td>0.115687</td>\n",
              "      <td>0.006555</td>\n",
              "      <td>0.006555</td>\n",
              "    </tr>\n",
              "    <tr>\n",
              "      <th>bottles_sold</th>\n",
              "      <td>0.178760</td>\n",
              "      <td>-0.031679</td>\n",
              "      <td>-0.070305</td>\n",
              "      <td>-0.070294</td>\n",
              "      <td>1.000000</td>\n",
              "      <td>0.802520</td>\n",
              "      <td>0.849576</td>\n",
              "      <td>0.849575</td>\n",
              "    </tr>\n",
              "    <tr>\n",
              "      <th>sale_dollars</th>\n",
              "      <td>-0.048062</td>\n",
              "      <td>0.078748</td>\n",
              "      <td>0.115701</td>\n",
              "      <td>0.115687</td>\n",
              "      <td>0.802520</td>\n",
              "      <td>1.000000</td>\n",
              "      <td>0.837646</td>\n",
              "      <td>0.837647</td>\n",
              "    </tr>\n",
              "    <tr>\n",
              "      <th>volume_sold_liters</th>\n",
              "      <td>-0.051640</td>\n",
              "      <td>0.133912</td>\n",
              "      <td>0.006553</td>\n",
              "      <td>0.006555</td>\n",
              "      <td>0.849576</td>\n",
              "      <td>0.837646</td>\n",
              "      <td>1.000000</td>\n",
              "      <td>1.000000</td>\n",
              "    </tr>\n",
              "    <tr>\n",
              "      <th>volume_sold_gallons</th>\n",
              "      <td>-0.051664</td>\n",
              "      <td>0.133981</td>\n",
              "      <td>0.006553</td>\n",
              "      <td>0.006555</td>\n",
              "      <td>0.849575</td>\n",
              "      <td>0.837647</td>\n",
              "      <td>1.000000</td>\n",
              "      <td>1.000000</td>\n",
              "    </tr>\n",
              "  </tbody>\n",
              "</table>\n",
              "</div>"
            ],
            "text/plain": [
              "                         pack  ...  volume_sold_gallons\n",
              "pack                 1.000000  ...            -0.051664\n",
              "bottle_volume_ml    -0.566593  ...             0.133981\n",
              "state_bottle_cost   -0.362614  ...             0.006553\n",
              "state_bottle_retail -0.362578  ...             0.006555\n",
              "bottles_sold         0.178760  ...             0.849575\n",
              "sale_dollars        -0.048062  ...             0.837647\n",
              "volume_sold_liters  -0.051640  ...             1.000000\n",
              "volume_sold_gallons -0.051664  ...             1.000000\n",
              "\n",
              "[8 rows x 8 columns]"
            ]
          },
          "metadata": {
            "tags": []
          },
          "execution_count": 19
        }
      ]
    },
    {
      "cell_type": "code",
      "metadata": {
        "id": "HarCmxYdlgQ4",
        "colab_type": "code",
        "colab": {}
      },
      "source": [
        "del df['volume_sold_gallons']"
      ],
      "execution_count": 0,
      "outputs": []
    },
    {
      "cell_type": "code",
      "metadata": {
        "id": "MuG5UC-HmGyl",
        "colab_type": "code",
        "colab": {}
      },
      "source": [
        ""
      ],
      "execution_count": 0,
      "outputs": []
    },
    {
      "cell_type": "code",
      "metadata": {
        "id": "mfwd9NvrmG93",
        "colab_type": "code",
        "colab": {}
      },
      "source": [
        ""
      ],
      "execution_count": 0,
      "outputs": []
    },
    {
      "cell_type": "code",
      "metadata": {
        "id": "MOz3GheVmHA9",
        "colab_type": "code",
        "colab": {}
      },
      "source": [
        ""
      ],
      "execution_count": 0,
      "outputs": []
    },
    {
      "cell_type": "code",
      "metadata": {
        "id": "s3GbT_4hmHI8",
        "colab_type": "code",
        "colab": {}
      },
      "source": [
        ""
      ],
      "execution_count": 0,
      "outputs": []
    },
    {
      "cell_type": "code",
      "metadata": {
        "id": "5U_ZzTXHmHEr",
        "colab_type": "code",
        "colab": {}
      },
      "source": [
        ""
      ],
      "execution_count": 0,
      "outputs": []
    },
    {
      "cell_type": "code",
      "metadata": {
        "id": "n-DZXdDsmG6m",
        "colab_type": "code",
        "colab": {}
      },
      "source": [
        ""
      ],
      "execution_count": 0,
      "outputs": []
    },
    {
      "cell_type": "code",
      "metadata": {
        "id": "uRxyN9B_odQS",
        "colab_type": "code",
        "colab": {}
      },
      "source": [
        "df.store_name.value_counts()"
      ],
      "execution_count": 0,
      "outputs": []
    },
    {
      "cell_type": "code",
      "metadata": {
        "id": "hSCFuQ14m5Mm",
        "colab_type": "code",
        "colab": {}
      },
      "source": [
        "df.drop(columns=[])"
      ],
      "execution_count": 0,
      "outputs": []
    },
    {
      "cell_type": "code",
      "metadata": {
        "id": "4j5hJvHcm5fT",
        "colab_type": "code",
        "colab": {
          "base_uri": "https://localhost:8080/",
          "height": 442
        },
        "outputId": "11310407-e586-4e7e-acbd-2ecc219611d6"
      },
      "source": [
        ""
      ],
      "execution_count": 13,
      "outputs": [
        {
          "output_type": "execute_result",
          "data": {
            "text/plain": [
              "invoice_and_item_number     object\n",
              "date                        object\n",
              "store_number                object\n",
              "store_name                  object\n",
              "address                     object\n",
              "city                        object\n",
              "zip_code                    object\n",
              "store_location              object\n",
              "county_number               object\n",
              "county                      object\n",
              "category                    object\n",
              "category_name               object\n",
              "vendor_number               object\n",
              "vendor_name                 object\n",
              "item_number                 object\n",
              "item_description            object\n",
              "pack                         int64\n",
              "bottle_volume_ml             int64\n",
              "state_bottle_cost          float64\n",
              "state_bottle_retail        float64\n",
              "bottles_sold                 int64\n",
              "sale_dollars               float64\n",
              "volume_sold_liters         float64\n",
              "volume_sold_gallons        float64\n",
              "dtype: object"
            ]
          },
          "metadata": {
            "tags": []
          },
          "execution_count": 13
        }
      ]
    },
    {
      "cell_type": "code",
      "metadata": {
        "id": "VJURlTQunI_D",
        "colab_type": "code",
        "colab": {}
      },
      "source": [
        ""
      ],
      "execution_count": 0,
      "outputs": []
    },
    {
      "cell_type": "code",
      "metadata": {
        "id": "IlrED4_VnJCe",
        "colab_type": "code",
        "colab": {}
      },
      "source": [
        ""
      ],
      "execution_count": 0,
      "outputs": []
    },
    {
      "cell_type": "code",
      "metadata": {
        "id": "HzcAa1hZnJI1",
        "colab_type": "code",
        "colab": {}
      },
      "source": [
        ""
      ],
      "execution_count": 0,
      "outputs": []
    },
    {
      "cell_type": "code",
      "metadata": {
        "id": "jWP_sj0aGaKp",
        "colab_type": "code",
        "colab": {
          "base_uri": "https://localhost:8080/",
          "height": 34
        },
        "outputId": "f5cc16ac-bf78-41c7-9830-27b3777fc294"
      },
      "source": [
        "df.shape"
      ],
      "execution_count": 11,
      "outputs": [
        {
          "output_type": "execute_result",
          "data": {
            "text/plain": [
              "(2380345, 24)"
            ]
          },
          "metadata": {
            "tags": []
          },
          "execution_count": 11
        }
      ]
    },
    {
      "cell_type": "code",
      "metadata": {
        "id": "FYVOegcgNKPU",
        "colab_type": "code",
        "colab": {
          "base_uri": "https://localhost:8080/",
          "height": 34
        },
        "outputId": "b98c19b2-5d73-45d3-9b40-9a66e1b00db2"
      },
      "source": [
        "df.shape"
      ],
      "execution_count": 12,
      "outputs": [
        {
          "output_type": "execute_result",
          "data": {
            "text/plain": [
              "(2380345, 24)"
            ]
          },
          "metadata": {
            "tags": []
          },
          "execution_count": 12
        }
      ]
    },
    {
      "cell_type": "markdown",
      "metadata": {
        "id": "j3BgxJpCmPnQ",
        "colab_type": "text"
      },
      "source": [
        "invoice_and_item_number\tSTRING\tNULLABLE\tConcatenated invoice and line number associated with the liquor order. This provides a unique identifier for the individual liquor products included in the store order\n",
        "\n",
        "date\tDATE\tNULLABLE\tDate of order\n",
        "\n",
        "store_number\tSTRING\tNULLABLE\tUnique number assigned to the store who ordered the liquor.\n",
        "\n",
        "store_name\tSTRING\tNULLABLE\tName of store who ordered the liquor.\n",
        "\n",
        "address\tSTRING\tNULLABLE\tAddress of store who ordered the liquor.\n",
        "\n",
        "city\tSTRING\tNULLABLE\tCity where the store who ordered the liquor is located\n",
        "\n",
        "zip_code\tSTRING\tNULLABLE\tZip code where the store who ordered the liquor is located\n",
        "\n",
        "store_location\tSTRING\tNULLABLE\tLocation of store who ordered the liquor. The Address, City, State and Zip Code are geocoded to provide geographic coordinates. Accuracy of geocoding is dependent on how well the address is interpreted and the completeness of the reference data used.\n",
        "\n",
        "county_number\tSTRING\tNULLABLE\tIowa county number for the county where store who ordered the liquor is located\n",
        "\n",
        "county\tSTRING\tNULLABLE\tCounty where the store who ordered the liquor is located\n",
        "\n",
        "category\tSTRING\tNULLABLE\tCategory code associated with the liquor ordered\n",
        "\n",
        "category_name\tSTRING\tNULLABLE\tCategory of the liquor ordered.\n",
        "\n",
        "vendor_number\tSTRING\tNULLABLE\tThe vendor number of the company for the brand of liquor ordered\n",
        "\n",
        "vendor_name\tSTRING\tNULLABLE\tThe vendor name of the company for the brand of liquor ordered\n",
        "\n",
        "item_number\tSTRING\tNULLABLE\tItem number for the individual liquor product ordered.\n",
        "\n",
        "item_description\tSTRING\tNULLABLE\tDescription of the individual liquor product ordered.\n",
        "\n",
        "pack\tINTEGER\tNULLABLE\tThe number of bottles in a case for the liquor ordered\n",
        "\n",
        "bottle_volume_ml\tINTEGER\tNULLABLE\tVolume of each liquor bottle ordered in milliliters.\n",
        "\n",
        "state_bottle_cost\tFLOAT\tNULLABLE\tThe amount that Alcoholic Beverages Division paid for each bottle of liquor ordered\n",
        "\n",
        "state_bottle_retail\tFLOAT\tNULLABLE\tThe amount the store paid for each bottle of liquor ordered\n",
        "\n",
        "bottles_sold\tINTEGER\tNULLABLE\tThe number of bottles of liquor ordered by the store\n",
        "\n",
        "sale_dollars\tFLOAT\tNULLABLE\tTotal cost of liquor order (number of bottles multiplied by the state bottle retail)\n",
        "\n",
        "volume_sold_liters\tFLOAT\tNULLABLE\tTotal volume of liquor ordered in liters. (i.e. (Bottle Volume (ml) x Bottles Sold)/1,000)\n",
        "\n",
        "volume_sold_gallons\tFLOAT\tNULLABLE\tTotal volume of liquor ordered in gallons. (i.e. (Bottle Volume (ml) x Bottles Sold)/3785.411784)"
      ]
    },
    {
      "cell_type": "code",
      "metadata": {
        "id": "dJj5Z8-mNxHS",
        "colab_type": "code",
        "colab": {}
      },
      "source": [
        ""
      ],
      "execution_count": 0,
      "outputs": []
    }
  ]
}