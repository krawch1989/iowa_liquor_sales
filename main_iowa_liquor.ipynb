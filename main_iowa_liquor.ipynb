{
  "nbformat": 4,
  "nbformat_minor": 0,
  "metadata": {
    "colab": {
      "name": "main_iowa_liquor.ipynb",
      "provenance": [],
      "toc_visible": true,
      "authorship_tag": "ABX9TyPLl2VV8USBYx3oEyTQ/ZBB",
      "include_colab_link": true
    },
    "kernelspec": {
      "name": "python3",
      "display_name": "Python 3"
    }
  },
  "cells": [
    {
      "cell_type": "markdown",
      "metadata": {
        "id": "view-in-github",
        "colab_type": "text"
      },
      "source": [
        "<a href=\"https://colab.research.google.com/github/krawch1989/iowa_liquor_sales/blob/stage/main_iowa_liquor.ipynb\" target=\"_parent\"><img src=\"https://colab.research.google.com/assets/colab-badge.svg\" alt=\"Open In Colab\"/></a>"
      ]
    },
    {
      "cell_type": "code",
      "metadata": {
        "id": "abOXtpvCZyOt",
        "colab_type": "code",
        "colab": {}
      },
      "source": [
        "import pandas as pd\n",
        "import numpy as np\n",
        "from google.colab import auth\n",
        "auth.authenticate_user()\n",
        "from google.cloud import bigquery"
      ],
      "execution_count": 0,
      "outputs": []
    },
    {
      "cell_type": "code",
      "metadata": {
        "id": "9XF7EWGYDpJY",
        "colab_type": "code",
        "colab": {}
      },
      "source": [
        "eth_project_id = 'earnest-star-194115'\n",
        "client = bigquery.Client(project=eth_project_id)"
      ],
      "execution_count": 0,
      "outputs": []
    },
    {
      "cell_type": "code",
      "metadata": {
        "id": "jmfJLq7QDpR7",
        "colab_type": "code",
        "colab": {}
      },
      "source": [
        "sql = \"\"\"\n",
        "    SELECT *\n",
        "    FROM `bigquery-public-data.iowa_liquor_sales.sales`\n",
        "    where date BETWEEN DATE('2019-01-01') AND DATE('2019-01-01')\n",
        "\"\"\"\n",
        "\n",
        "df = client.query(sql).to_dataframe()"
      ],
      "execution_count": 0,
      "outputs": []
    },
    {
      "cell_type": "code",
      "metadata": {
        "id": "nEoQsw6oDpVm",
        "colab_type": "code",
        "colab": {
          "base_uri": "https://localhost:8080/",
          "height": 411
        },
        "outputId": "118f08de-e48e-44dd-d2e3-3e09d4655f06"
      },
      "source": [
        "df.head()"
      ],
      "execution_count": 10,
      "outputs": [
        {
          "output_type": "execute_result",
          "data": {
            "text/html": [
              "<div>\n",
              "<style scoped>\n",
              "    .dataframe tbody tr th:only-of-type {\n",
              "        vertical-align: middle;\n",
              "    }\n",
              "\n",
              "    .dataframe tbody tr th {\n",
              "        vertical-align: top;\n",
              "    }\n",
              "\n",
              "    .dataframe thead th {\n",
              "        text-align: right;\n",
              "    }\n",
              "</style>\n",
              "<table border=\"1\" class=\"dataframe\">\n",
              "  <thead>\n",
              "    <tr style=\"text-align: right;\">\n",
              "      <th></th>\n",
              "      <th>invoice_and_item_number</th>\n",
              "      <th>date</th>\n",
              "      <th>store_number</th>\n",
              "      <th>store_name</th>\n",
              "      <th>address</th>\n",
              "      <th>city</th>\n",
              "      <th>zip_code</th>\n",
              "      <th>store_location</th>\n",
              "      <th>county_number</th>\n",
              "      <th>county</th>\n",
              "      <th>category</th>\n",
              "      <th>category_name</th>\n",
              "      <th>vendor_number</th>\n",
              "      <th>vendor_name</th>\n",
              "      <th>item_number</th>\n",
              "      <th>item_description</th>\n",
              "      <th>pack</th>\n",
              "      <th>bottle_volume_ml</th>\n",
              "      <th>state_bottle_cost</th>\n",
              "      <th>state_bottle_retail</th>\n",
              "      <th>bottles_sold</th>\n",
              "      <th>sale_dollars</th>\n",
              "      <th>volume_sold_liters</th>\n",
              "      <th>volume_sold_gallons</th>\n",
              "    </tr>\n",
              "  </thead>\n",
              "  <tbody>\n",
              "    <tr>\n",
              "      <th>0</th>\n",
              "      <td>INV-23318300043</td>\n",
              "      <td>2019-11-19</td>\n",
              "      <td>3494</td>\n",
              "      <td>Sam's Club 6514 / Waterloo</td>\n",
              "      <td>210 East Tower Park Dr</td>\n",
              "      <td>Waterloo</td>\n",
              "      <td>50702</td>\n",
              "      <td>POINT (-92.353103 42.456374)</td>\n",
              "      <td>7</td>\n",
              "      <td>BLACK HAWK</td>\n",
              "      <td>1092100</td>\n",
              "      <td>Imported Distilled Spirit Specialty</td>\n",
              "      <td>421</td>\n",
              "      <td>SAZERAC COMPANY  INC</td>\n",
              "      <td>77487</td>\n",
              "      <td>Tortilla Gold DSS</td>\n",
              "      <td>12</td>\n",
              "      <td>1000</td>\n",
              "      <td>4.85</td>\n",
              "      <td>7.28</td>\n",
              "      <td>768</td>\n",
              "      <td>5591.04</td>\n",
              "      <td>768.00</td>\n",
              "      <td>202.88</td>\n",
              "    </tr>\n",
              "    <tr>\n",
              "      <th>1</th>\n",
              "      <td>INV-19459100002</td>\n",
              "      <td>2019-05-20</td>\n",
              "      <td>2614</td>\n",
              "      <td>Hy-Vee #3 Food &amp; Drugstore / Davenport</td>\n",
              "      <td>1823 E Kimberly Rd</td>\n",
              "      <td>Davenport</td>\n",
              "      <td>52807</td>\n",
              "      <td>POINT (-90.548919 41.55678100000001)</td>\n",
              "      <td>82</td>\n",
              "      <td>SCOTT</td>\n",
              "      <td>1901200</td>\n",
              "      <td>Special Order Items</td>\n",
              "      <td>259</td>\n",
              "      <td>Heaven Hill Brands</td>\n",
              "      <td>941294</td>\n",
              "      <td>SOOH Burnetts Peach</td>\n",
              "      <td>12</td>\n",
              "      <td>750</td>\n",
              "      <td>4.48</td>\n",
              "      <td>6.72</td>\n",
              "      <td>24</td>\n",
              "      <td>161.28</td>\n",
              "      <td>18.00</td>\n",
              "      <td>4.75</td>\n",
              "    </tr>\n",
              "    <tr>\n",
              "      <th>2</th>\n",
              "      <td>INV-19464700001</td>\n",
              "      <td>2019-05-20</td>\n",
              "      <td>5298</td>\n",
              "      <td>DeWitt Travel Mart</td>\n",
              "      <td>630, 6th Ave</td>\n",
              "      <td>DeWitt</td>\n",
              "      <td>52742</td>\n",
              "      <td>POINT (-90.538952 41.821779)</td>\n",
              "      <td>23</td>\n",
              "      <td>CLINTON</td>\n",
              "      <td>1701100</td>\n",
              "      <td>Temporary &amp; Specialty Packages</td>\n",
              "      <td>085</td>\n",
              "      <td>Brown Forman Corp.</td>\n",
              "      <td>22219</td>\n",
              "      <td>Woodford Reserve Kentucky Derby 2019</td>\n",
              "      <td>6</td>\n",
              "      <td>1000</td>\n",
              "      <td>26.49</td>\n",
              "      <td>39.74</td>\n",
              "      <td>6</td>\n",
              "      <td>238.44</td>\n",
              "      <td>6.00</td>\n",
              "      <td>1.58</td>\n",
              "    </tr>\n",
              "    <tr>\n",
              "      <th>3</th>\n",
              "      <td>INV-23540600001</td>\n",
              "      <td>2019-11-27</td>\n",
              "      <td>4312</td>\n",
              "      <td>I-80 Liquor / Council Bluffs</td>\n",
              "      <td>2411 S 24TH ST #1</td>\n",
              "      <td>Council Bluffs</td>\n",
              "      <td>51501</td>\n",
              "      <td>POINT (-95.8792 41.238092)</td>\n",
              "      <td>78</td>\n",
              "      <td>POTTAWATTA</td>\n",
              "      <td>1701100</td>\n",
              "      <td>Temporary &amp; Specialty Packages</td>\n",
              "      <td>035</td>\n",
              "      <td>BACARDI USA INC</td>\n",
              "      <td>1488</td>\n",
              "      <td>Grey Goose w/2 Martini Glasses</td>\n",
              "      <td>6</td>\n",
              "      <td>750</td>\n",
              "      <td>18.49</td>\n",
              "      <td>27.74</td>\n",
              "      <td>30</td>\n",
              "      <td>832.20</td>\n",
              "      <td>22.50</td>\n",
              "      <td>5.94</td>\n",
              "    </tr>\n",
              "    <tr>\n",
              "      <th>4</th>\n",
              "      <td>INV-19690100011</td>\n",
              "      <td>2019-05-30</td>\n",
              "      <td>5688</td>\n",
              "      <td>Dyno's #40 / Spencer</td>\n",
              "      <td>1001 S Grand Ave</td>\n",
              "      <td>Spencer</td>\n",
              "      <td>51301</td>\n",
              "      <td>POINT (-95.143701 43.12759)</td>\n",
              "      <td>21</td>\n",
              "      <td>CLAY</td>\n",
              "      <td>1701100</td>\n",
              "      <td>Temporary &amp; Specialty Packages</td>\n",
              "      <td>370</td>\n",
              "      <td>PERNOD RICARD USA</td>\n",
              "      <td>15727</td>\n",
              "      <td>Jameson Caskmates Stout Mini</td>\n",
              "      <td>10</td>\n",
              "      <td>50</td>\n",
              "      <td>7.92</td>\n",
              "      <td>11.88</td>\n",
              "      <td>1</td>\n",
              "      <td>11.88</td>\n",
              "      <td>0.05</td>\n",
              "      <td>0.01</td>\n",
              "    </tr>\n",
              "  </tbody>\n",
              "</table>\n",
              "</div>"
            ],
            "text/plain": [
              "  invoice_and_item_number        date  ... volume_sold_liters volume_sold_gallons\n",
              "0         INV-23318300043  2019-11-19  ...             768.00              202.88\n",
              "1         INV-19459100002  2019-05-20  ...              18.00                4.75\n",
              "2         INV-19464700001  2019-05-20  ...               6.00                1.58\n",
              "3         INV-23540600001  2019-11-27  ...              22.50                5.94\n",
              "4         INV-19690100011  2019-05-30  ...               0.05                0.01\n",
              "\n",
              "[5 rows x 24 columns]"
            ]
          },
          "metadata": {
            "tags": []
          },
          "execution_count": 10
        }
      ]
    },
    {
      "cell_type": "markdown",
      "metadata": {
        "id": "wECPomAts0gR",
        "colab_type": "text"
      },
      "source": [
        ""
      ]
    },
    {
      "cell_type": "code",
      "metadata": {
        "id": "f01tQIgTs1Ui",
        "colab_type": "code",
        "colab": {
          "base_uri": "https://localhost:8080/",
          "height": 221
        },
        "outputId": "d08064da-06f9-4d61-b317-2b83eb7627f6"
      },
      "source": [
        "df.date.dt.is_quarter_end"
      ],
      "execution_count": 27,
      "outputs": [
        {
          "output_type": "execute_result",
          "data": {
            "text/plain": [
              "0          False\n",
              "1          False\n",
              "2          False\n",
              "3          False\n",
              "4          False\n",
              "           ...  \n",
              "2380340    False\n",
              "2380341    False\n",
              "2380342    False\n",
              "2380343    False\n",
              "2380344    False\n",
              "Name: date, Length: 2380345, dtype: bool"
            ]
          },
          "metadata": {
            "tags": []
          },
          "execution_count": 27
        }
      ]
    },
    {
      "cell_type": "code",
      "metadata": {
        "id": "WplZrSGTqA6K",
        "colab_type": "code",
        "colab": {
          "base_uri": "https://localhost:8080/",
          "height": 442
        },
        "outputId": "9bb2d409-bdf3-46b6-d88f-cf935c4b66f7"
      },
      "source": [
        "df.dtypes"
      ],
      "execution_count": 24,
      "outputs": [
        {
          "output_type": "execute_result",
          "data": {
            "text/plain": [
              "invoice_and_item_number     object\n",
              "date                        object\n",
              "store_number                object\n",
              "store_name                  object\n",
              "address                     object\n",
              "city                        object\n",
              "zip_code                    object\n",
              "store_location              object\n",
              "county_number               object\n",
              "county                      object\n",
              "category                    object\n",
              "category_name               object\n",
              "vendor_number               object\n",
              "vendor_name                 object\n",
              "item_number                 object\n",
              "item_description            object\n",
              "pack                         int64\n",
              "bottle_volume_ml             int64\n",
              "state_bottle_cost          float64\n",
              "state_bottle_retail        float64\n",
              "bottles_sold                 int64\n",
              "sale_dollars               float64\n",
              "volume_sold_liters         float64\n",
              "volume_sold_gallons        float64\n",
              "dtype: object"
            ]
          },
          "metadata": {
            "tags": []
          },
          "execution_count": 24
        }
      ]
    },
    {
      "cell_type": "code",
      "metadata": {
        "id": "XpLWYVluqqMO",
        "colab_type": "code",
        "colab": {}
      },
      "source": [
        "df.date = pd.to_datetime(df.date)\n",
        "df['dayofweek'] = df.date.dt.weekday_name\n",
        "df['month'] = df.date.dt.month_name()\n",
        "df.loc[df.month.isin(['December','January','February']),'season'] = 'winter'\n",
        "df.loc[df.month.isin(['March','April','May']),'season'] = 'spring'\n",
        "df.loc[df.month.isin(['June','July','August']),'season'] = 'summer'\n",
        "df.loc[df.month.isin(['September','October','November']),'season'] = 'autumn'"
      ],
      "execution_count": 0,
      "outputs": []
    },
    {
      "cell_type": "code",
      "metadata": {
        "id": "BkVTj2MOskA4",
        "colab_type": "code",
        "colab": {
          "base_uri": "https://localhost:8080/",
          "height": 306
        },
        "outputId": "3f4e4a19-f8cc-43de-c44d-aee770594268"
      },
      "source": [
        "df.store_location = df.store_location.str.replace('POINT \\(', '').str.replace(')', '').str.strip().str.split(' ')\n",
        "len(df.loc[df.store_location.isnull()])/len(df)"
      ],
      "execution_count": 54,
      "outputs": [
        {
          "output_type": "error",
          "ename": "AttributeError",
          "evalue": "ignored",
          "traceback": [
            "\u001b[0;31m---------------------------------------------------------------------------\u001b[0m",
            "\u001b[0;31mAttributeError\u001b[0m                            Traceback (most recent call last)",
            "\u001b[0;32m<ipython-input-54-ed4e4894b319>\u001b[0m in \u001b[0;36m<module>\u001b[0;34m()\u001b[0m\n\u001b[0;32m----> 1\u001b[0;31m \u001b[0mdf\u001b[0m\u001b[0;34m.\u001b[0m\u001b[0mstore_location\u001b[0m \u001b[0;34m=\u001b[0m \u001b[0mdf\u001b[0m\u001b[0;34m.\u001b[0m\u001b[0mstore_location\u001b[0m\u001b[0;34m.\u001b[0m\u001b[0mstr\u001b[0m\u001b[0;34m.\u001b[0m\u001b[0mreplace\u001b[0m\u001b[0;34m(\u001b[0m\u001b[0;34m'POINT \\('\u001b[0m\u001b[0;34m,\u001b[0m \u001b[0;34m''\u001b[0m\u001b[0;34m)\u001b[0m\u001b[0;34m.\u001b[0m\u001b[0mstr\u001b[0m\u001b[0;34m.\u001b[0m\u001b[0mreplace\u001b[0m\u001b[0;34m(\u001b[0m\u001b[0;34m')'\u001b[0m\u001b[0;34m,\u001b[0m \u001b[0;34m''\u001b[0m\u001b[0;34m)\u001b[0m\u001b[0;34m.\u001b[0m\u001b[0mstr\u001b[0m\u001b[0;34m.\u001b[0m\u001b[0mstrip\u001b[0m\u001b[0;34m(\u001b[0m\u001b[0;34m)\u001b[0m\u001b[0;34m.\u001b[0m\u001b[0mstr\u001b[0m\u001b[0;34m.\u001b[0m\u001b[0msplit\u001b[0m\u001b[0;34m(\u001b[0m\u001b[0;34m' '\u001b[0m\u001b[0;34m)\u001b[0m\u001b[0;34m.\u001b[0m\u001b[0mfillna\u001b[0m\u001b[0;34m(\u001b[0m\u001b[0mpd\u001b[0m\u001b[0;34m.\u001b[0m\u001b[0mnan\u001b[0m\u001b[0;34m)\u001b[0m\u001b[0;34m\u001b[0m\u001b[0;34m\u001b[0m\u001b[0m\n\u001b[0m",
            "\u001b[0;32m/usr/local/lib/python3.6/dist-packages/pandas/core/generic.py\u001b[0m in \u001b[0;36m__getattr__\u001b[0;34m(self, name)\u001b[0m\n\u001b[1;32m   5173\u001b[0m             \u001b[0;32mor\u001b[0m \u001b[0mname\u001b[0m \u001b[0;32min\u001b[0m \u001b[0mself\u001b[0m\u001b[0;34m.\u001b[0m\u001b[0m_accessors\u001b[0m\u001b[0;34m\u001b[0m\u001b[0;34m\u001b[0m\u001b[0m\n\u001b[1;32m   5174\u001b[0m         ):\n\u001b[0;32m-> 5175\u001b[0;31m             \u001b[0;32mreturn\u001b[0m \u001b[0mobject\u001b[0m\u001b[0;34m.\u001b[0m\u001b[0m__getattribute__\u001b[0m\u001b[0;34m(\u001b[0m\u001b[0mself\u001b[0m\u001b[0;34m,\u001b[0m \u001b[0mname\u001b[0m\u001b[0;34m)\u001b[0m\u001b[0;34m\u001b[0m\u001b[0;34m\u001b[0m\u001b[0m\n\u001b[0m\u001b[1;32m   5176\u001b[0m         \u001b[0;32melse\u001b[0m\u001b[0;34m:\u001b[0m\u001b[0;34m\u001b[0m\u001b[0;34m\u001b[0m\u001b[0m\n\u001b[1;32m   5177\u001b[0m             \u001b[0;32mif\u001b[0m \u001b[0mself\u001b[0m\u001b[0;34m.\u001b[0m\u001b[0m_info_axis\u001b[0m\u001b[0;34m.\u001b[0m\u001b[0m_can_hold_identifiers_and_holds_name\u001b[0m\u001b[0;34m(\u001b[0m\u001b[0mname\u001b[0m\u001b[0;34m)\u001b[0m\u001b[0;34m:\u001b[0m\u001b[0;34m\u001b[0m\u001b[0;34m\u001b[0m\u001b[0m\n",
            "\u001b[0;32m/usr/local/lib/python3.6/dist-packages/pandas/core/accessor.py\u001b[0m in \u001b[0;36m__get__\u001b[0;34m(self, obj, cls)\u001b[0m\n\u001b[1;32m    173\u001b[0m             \u001b[0;31m# we're accessing the attribute of the class, i.e., Dataset.geo\u001b[0m\u001b[0;34m\u001b[0m\u001b[0;34m\u001b[0m\u001b[0;34m\u001b[0m\u001b[0m\n\u001b[1;32m    174\u001b[0m             \u001b[0;32mreturn\u001b[0m \u001b[0mself\u001b[0m\u001b[0;34m.\u001b[0m\u001b[0m_accessor\u001b[0m\u001b[0;34m\u001b[0m\u001b[0;34m\u001b[0m\u001b[0m\n\u001b[0;32m--> 175\u001b[0;31m         \u001b[0maccessor_obj\u001b[0m \u001b[0;34m=\u001b[0m \u001b[0mself\u001b[0m\u001b[0;34m.\u001b[0m\u001b[0m_accessor\u001b[0m\u001b[0;34m(\u001b[0m\u001b[0mobj\u001b[0m\u001b[0;34m)\u001b[0m\u001b[0;34m\u001b[0m\u001b[0;34m\u001b[0m\u001b[0m\n\u001b[0m\u001b[1;32m    176\u001b[0m         \u001b[0;31m# Replace the property with the accessor object. Inspired by:\u001b[0m\u001b[0;34m\u001b[0m\u001b[0;34m\u001b[0m\u001b[0;34m\u001b[0m\u001b[0m\n\u001b[1;32m    177\u001b[0m         \u001b[0;31m# http://www.pydanny.com/cached-property.html\u001b[0m\u001b[0;34m\u001b[0m\u001b[0;34m\u001b[0m\u001b[0;34m\u001b[0m\u001b[0m\n",
            "\u001b[0;32m/usr/local/lib/python3.6/dist-packages/pandas/core/strings.py\u001b[0m in \u001b[0;36m__init__\u001b[0;34m(self, data)\u001b[0m\n\u001b[1;32m   1915\u001b[0m \u001b[0;34m\u001b[0m\u001b[0m\n\u001b[1;32m   1916\u001b[0m     \u001b[0;32mdef\u001b[0m \u001b[0m__init__\u001b[0m\u001b[0;34m(\u001b[0m\u001b[0mself\u001b[0m\u001b[0;34m,\u001b[0m \u001b[0mdata\u001b[0m\u001b[0;34m)\u001b[0m\u001b[0;34m:\u001b[0m\u001b[0;34m\u001b[0m\u001b[0;34m\u001b[0m\u001b[0m\n\u001b[0;32m-> 1917\u001b[0;31m         \u001b[0mself\u001b[0m\u001b[0;34m.\u001b[0m\u001b[0m_inferred_dtype\u001b[0m \u001b[0;34m=\u001b[0m \u001b[0mself\u001b[0m\u001b[0;34m.\u001b[0m\u001b[0m_validate\u001b[0m\u001b[0;34m(\u001b[0m\u001b[0mdata\u001b[0m\u001b[0;34m)\u001b[0m\u001b[0;34m\u001b[0m\u001b[0;34m\u001b[0m\u001b[0m\n\u001b[0m\u001b[1;32m   1918\u001b[0m         \u001b[0mself\u001b[0m\u001b[0;34m.\u001b[0m\u001b[0m_is_categorical\u001b[0m \u001b[0;34m=\u001b[0m \u001b[0mis_categorical_dtype\u001b[0m\u001b[0;34m(\u001b[0m\u001b[0mdata\u001b[0m\u001b[0;34m)\u001b[0m\u001b[0;34m\u001b[0m\u001b[0;34m\u001b[0m\u001b[0m\n\u001b[1;32m   1919\u001b[0m \u001b[0;34m\u001b[0m\u001b[0m\n",
            "\u001b[0;32m/usr/local/lib/python3.6/dist-packages/pandas/core/strings.py\u001b[0m in \u001b[0;36m_validate\u001b[0;34m(data)\u001b[0m\n\u001b[1;32m   1965\u001b[0m \u001b[0;34m\u001b[0m\u001b[0m\n\u001b[1;32m   1966\u001b[0m         \u001b[0;32mif\u001b[0m \u001b[0minferred_dtype\u001b[0m \u001b[0;32mnot\u001b[0m \u001b[0;32min\u001b[0m \u001b[0mallowed_types\u001b[0m\u001b[0;34m:\u001b[0m\u001b[0;34m\u001b[0m\u001b[0;34m\u001b[0m\u001b[0m\n\u001b[0;32m-> 1967\u001b[0;31m             \u001b[0;32mraise\u001b[0m \u001b[0mAttributeError\u001b[0m\u001b[0;34m(\u001b[0m\u001b[0;34m\"Can only use .str accessor with string \"\u001b[0m \u001b[0;34m\"values!\"\u001b[0m\u001b[0;34m)\u001b[0m\u001b[0;34m\u001b[0m\u001b[0;34m\u001b[0m\u001b[0m\n\u001b[0m\u001b[1;32m   1968\u001b[0m         \u001b[0;32mreturn\u001b[0m \u001b[0minferred_dtype\u001b[0m\u001b[0;34m\u001b[0m\u001b[0;34m\u001b[0m\u001b[0m\n\u001b[1;32m   1969\u001b[0m \u001b[0;34m\u001b[0m\u001b[0m\n",
            "\u001b[0;31mAttributeError\u001b[0m: Can only use .str accessor with string values!"
          ]
        }
      ]
    },
    {
      "cell_type": "code",
      "metadata": {
        "id": "l0UxW8MBqqci",
        "colab_type": "code",
        "colab": {}
      },
      "source": [
        "df.loc[df.store_location.notnull(), 'longtitude'] = df.loc[df.store_location.notnull(), 'store_location'].apply(lambda x: x[0]).astype(float).round(4)\n",
        "df.loc[df.store_location.notnull(), 'latitude'] = df.loc[df.store_location.notnull(), 'store_location'].apply(lambda x: x[1]).astype(float).round(4)"
      ],
      "execution_count": 0,
      "outputs": []
    },
    {
      "cell_type": "code",
      "metadata": {
        "id": "TpUpuP87qqjF",
        "colab_type": "code",
        "colab": {
          "base_uri": "https://localhost:8080/",
          "height": 221
        },
        "outputId": "6bcf0cda-8bba-44c8-b83a-35d1dd7a9886"
      },
      "source": [
        "df.vendor_number.value_counts()"
      ],
      "execution_count": 79,
      "outputs": [
        {
          "output_type": "execute_result",
          "data": {
            "text/plain": [
              "260    387247\n",
              "065    215190\n",
              "421    201695\n",
              "434    189225\n",
              "370    136899\n",
              "        ...  \n",
              "603         1\n",
              "560         1\n",
              "585         1\n",
              "602         1\n",
              "621         1\n",
              "Name: vendor_number, Length: 191, dtype: int64"
            ]
          },
          "metadata": {
            "tags": []
          },
          "execution_count": 79
        }
      ]
    },
    {
      "cell_type": "code",
      "metadata": {
        "id": "XbOVLximzJH7",
        "colab_type": "code",
        "colab": {
          "base_uri": "https://localhost:8080/",
          "height": 221
        },
        "outputId": "90f95cb3-6372-4b30-cef5-d84f9622ce51"
      },
      "source": [
        "df.vendor_name.value_counts()"
      ],
      "execution_count": 80,
      "outputs": [
        {
          "output_type": "execute_result",
          "data": {
            "text/plain": [
              "DIAGEO AMERICAS                      387247\n",
              "Jim Beam Brands                      215190\n",
              "SAZERAC COMPANY  INC                 201695\n",
              "LUXCO INC                            189225\n",
              "PERNOD RICARD USA                    136899\n",
              "                                      ...  \n",
              "Heavenly Spirits LLC                      1\n",
              "Mutual Wholesale Liquor Inc               1\n",
              "HPSepicurean LLC / Preiss Imports         1\n",
              "Doc Brown Enterprises                     1\n",
              "Black Sea Imports, Inc                    1\n",
              "Name: vendor_name, Length: 192, dtype: int64"
            ]
          },
          "metadata": {
            "tags": []
          },
          "execution_count": 80
        }
      ]
    },
    {
      "cell_type": "code",
      "metadata": {
        "id": "oYLi7FO5zJLq",
        "colab_type": "code",
        "colab": {
          "base_uri": "https://localhost:8080/",
          "height": 411
        },
        "outputId": "969d2cf1-fee6-41f0-e443-5033f6edd5d5"
      },
      "source": [
        "cat_number = ['store_number','county_number','category','vendor_number'] \n",
        "cat_name = ['store_name','county','category_name','vendor_name']\n",
        "for number, name in zip(cat_number, cat_name):\n",
        "  print(cat_number,cat_name)\n",
        "  frame = df[[cat_number, cat_name]].drop_duplicates(subset = cat_number)\n",
        "  del df[cat_name]\n",
        "  df = df.merge(frame, how='left', on=cat_number)\n",
        "  del df[cat_number]\n",
        "del frame"
      ],
      "execution_count": 83,
      "outputs": [
        {
          "output_type": "stream",
          "text": [
            "['store_number', 'county_number', 'category', 'vendor_number'] ['store_name', 'county', 'category_name', 'vendor_name']\n"
          ],
          "name": "stdout"
        },
        {
          "output_type": "error",
          "ename": "KeyError",
          "evalue": "ignored",
          "traceback": [
            "\u001b[0;31m---------------------------------------------------------------------------\u001b[0m",
            "\u001b[0;31mKeyError\u001b[0m                                  Traceback (most recent call last)",
            "\u001b[0;32m<ipython-input-83-44519f787924>\u001b[0m in \u001b[0;36m<module>\u001b[0;34m()\u001b[0m\n\u001b[1;32m      3\u001b[0m \u001b[0;32mfor\u001b[0m \u001b[0mnumber\u001b[0m\u001b[0;34m,\u001b[0m \u001b[0mname\u001b[0m \u001b[0;32min\u001b[0m \u001b[0mzip\u001b[0m\u001b[0;34m(\u001b[0m\u001b[0mcat_number\u001b[0m\u001b[0;34m,\u001b[0m \u001b[0mcat_name\u001b[0m\u001b[0;34m)\u001b[0m\u001b[0;34m:\u001b[0m\u001b[0;34m\u001b[0m\u001b[0;34m\u001b[0m\u001b[0m\n\u001b[1;32m      4\u001b[0m   \u001b[0mprint\u001b[0m\u001b[0;34m(\u001b[0m\u001b[0mcat_number\u001b[0m\u001b[0;34m,\u001b[0m\u001b[0mcat_name\u001b[0m\u001b[0;34m)\u001b[0m\u001b[0;34m\u001b[0m\u001b[0;34m\u001b[0m\u001b[0m\n\u001b[0;32m----> 5\u001b[0;31m   \u001b[0mframe\u001b[0m \u001b[0;34m=\u001b[0m \u001b[0mdf\u001b[0m\u001b[0;34m[\u001b[0m\u001b[0;34m[\u001b[0m\u001b[0mcat_number\u001b[0m\u001b[0;34m,\u001b[0m \u001b[0mcat_name\u001b[0m\u001b[0;34m]\u001b[0m\u001b[0;34m]\u001b[0m\u001b[0;34m.\u001b[0m\u001b[0mdrop_duplicates\u001b[0m\u001b[0;34m(\u001b[0m\u001b[0msubset\u001b[0m \u001b[0;34m=\u001b[0m \u001b[0mcat_number\u001b[0m\u001b[0;34m)\u001b[0m\u001b[0;34m\u001b[0m\u001b[0;34m\u001b[0m\u001b[0m\n\u001b[0m\u001b[1;32m      6\u001b[0m   \u001b[0;32mdel\u001b[0m \u001b[0mdf\u001b[0m\u001b[0;34m[\u001b[0m\u001b[0mcat_name\u001b[0m\u001b[0;34m]\u001b[0m\u001b[0;34m\u001b[0m\u001b[0;34m\u001b[0m\u001b[0m\n\u001b[1;32m      7\u001b[0m   \u001b[0mdf\u001b[0m \u001b[0;34m=\u001b[0m \u001b[0mdf\u001b[0m\u001b[0;34m.\u001b[0m\u001b[0mmerge\u001b[0m\u001b[0;34m(\u001b[0m\u001b[0mframe\u001b[0m\u001b[0;34m,\u001b[0m \u001b[0mhow\u001b[0m\u001b[0;34m=\u001b[0m\u001b[0;34m'left'\u001b[0m\u001b[0;34m,\u001b[0m \u001b[0mon\u001b[0m\u001b[0;34m=\u001b[0m\u001b[0mcat_number\u001b[0m\u001b[0;34m)\u001b[0m\u001b[0;34m\u001b[0m\u001b[0;34m\u001b[0m\u001b[0m\n",
            "\u001b[0;32m/usr/local/lib/python3.6/dist-packages/pandas/core/frame.py\u001b[0m in \u001b[0;36m__getitem__\u001b[0;34m(self, key)\u001b[0m\n\u001b[1;32m   2999\u001b[0m             \u001b[0;32mif\u001b[0m \u001b[0mis_iterator\u001b[0m\u001b[0;34m(\u001b[0m\u001b[0mkey\u001b[0m\u001b[0;34m)\u001b[0m\u001b[0;34m:\u001b[0m\u001b[0;34m\u001b[0m\u001b[0;34m\u001b[0m\u001b[0m\n\u001b[1;32m   3000\u001b[0m                 \u001b[0mkey\u001b[0m \u001b[0;34m=\u001b[0m \u001b[0mlist\u001b[0m\u001b[0;34m(\u001b[0m\u001b[0mkey\u001b[0m\u001b[0;34m)\u001b[0m\u001b[0;34m\u001b[0m\u001b[0;34m\u001b[0m\u001b[0m\n\u001b[0;32m-> 3001\u001b[0;31m             \u001b[0mindexer\u001b[0m \u001b[0;34m=\u001b[0m \u001b[0mself\u001b[0m\u001b[0;34m.\u001b[0m\u001b[0mloc\u001b[0m\u001b[0;34m.\u001b[0m\u001b[0m_convert_to_indexer\u001b[0m\u001b[0;34m(\u001b[0m\u001b[0mkey\u001b[0m\u001b[0;34m,\u001b[0m \u001b[0maxis\u001b[0m\u001b[0;34m=\u001b[0m\u001b[0;36m1\u001b[0m\u001b[0;34m,\u001b[0m \u001b[0mraise_missing\u001b[0m\u001b[0;34m=\u001b[0m\u001b[0;32mTrue\u001b[0m\u001b[0;34m)\u001b[0m\u001b[0;34m\u001b[0m\u001b[0;34m\u001b[0m\u001b[0m\n\u001b[0m\u001b[1;32m   3002\u001b[0m \u001b[0;34m\u001b[0m\u001b[0m\n\u001b[1;32m   3003\u001b[0m         \u001b[0;31m# take() does not accept boolean indexers\u001b[0m\u001b[0;34m\u001b[0m\u001b[0;34m\u001b[0m\u001b[0;34m\u001b[0m\u001b[0m\n",
            "\u001b[0;32m/usr/local/lib/python3.6/dist-packages/pandas/core/indexing.py\u001b[0m in \u001b[0;36m_convert_to_indexer\u001b[0;34m(self, obj, axis, is_setter, raise_missing)\u001b[0m\n\u001b[1;32m   1283\u001b[0m                 \u001b[0;31m# When setting, missing keys are not allowed, even with .loc:\u001b[0m\u001b[0;34m\u001b[0m\u001b[0;34m\u001b[0m\u001b[0;34m\u001b[0m\u001b[0m\n\u001b[1;32m   1284\u001b[0m                 \u001b[0mkwargs\u001b[0m \u001b[0;34m=\u001b[0m \u001b[0;34m{\u001b[0m\u001b[0;34m\"raise_missing\"\u001b[0m\u001b[0;34m:\u001b[0m \u001b[0;32mTrue\u001b[0m \u001b[0;32mif\u001b[0m \u001b[0mis_setter\u001b[0m \u001b[0;32melse\u001b[0m \u001b[0mraise_missing\u001b[0m\u001b[0;34m}\u001b[0m\u001b[0;34m\u001b[0m\u001b[0;34m\u001b[0m\u001b[0m\n\u001b[0;32m-> 1285\u001b[0;31m                 \u001b[0;32mreturn\u001b[0m \u001b[0mself\u001b[0m\u001b[0;34m.\u001b[0m\u001b[0m_get_listlike_indexer\u001b[0m\u001b[0;34m(\u001b[0m\u001b[0mobj\u001b[0m\u001b[0;34m,\u001b[0m \u001b[0maxis\u001b[0m\u001b[0;34m,\u001b[0m \u001b[0;34m**\u001b[0m\u001b[0mkwargs\u001b[0m\u001b[0;34m)\u001b[0m\u001b[0;34m[\u001b[0m\u001b[0;36m1\u001b[0m\u001b[0;34m]\u001b[0m\u001b[0;34m\u001b[0m\u001b[0;34m\u001b[0m\u001b[0m\n\u001b[0m\u001b[1;32m   1286\u001b[0m         \u001b[0;32melse\u001b[0m\u001b[0;34m:\u001b[0m\u001b[0;34m\u001b[0m\u001b[0;34m\u001b[0m\u001b[0m\n\u001b[1;32m   1287\u001b[0m             \u001b[0;32mtry\u001b[0m\u001b[0;34m:\u001b[0m\u001b[0;34m\u001b[0m\u001b[0;34m\u001b[0m\u001b[0m\n",
            "\u001b[0;32m/usr/local/lib/python3.6/dist-packages/pandas/core/indexing.py\u001b[0m in \u001b[0;36m_get_listlike_indexer\u001b[0;34m(self, key, axis, raise_missing)\u001b[0m\n\u001b[1;32m   1090\u001b[0m \u001b[0;34m\u001b[0m\u001b[0m\n\u001b[1;32m   1091\u001b[0m         self._validate_read_indexer(\n\u001b[0;32m-> 1092\u001b[0;31m             \u001b[0mkeyarr\u001b[0m\u001b[0;34m,\u001b[0m \u001b[0mindexer\u001b[0m\u001b[0;34m,\u001b[0m \u001b[0mo\u001b[0m\u001b[0;34m.\u001b[0m\u001b[0m_get_axis_number\u001b[0m\u001b[0;34m(\u001b[0m\u001b[0maxis\u001b[0m\u001b[0;34m)\u001b[0m\u001b[0;34m,\u001b[0m \u001b[0mraise_missing\u001b[0m\u001b[0;34m=\u001b[0m\u001b[0mraise_missing\u001b[0m\u001b[0;34m\u001b[0m\u001b[0;34m\u001b[0m\u001b[0m\n\u001b[0m\u001b[1;32m   1093\u001b[0m         )\n\u001b[1;32m   1094\u001b[0m         \u001b[0;32mreturn\u001b[0m \u001b[0mkeyarr\u001b[0m\u001b[0;34m,\u001b[0m \u001b[0mindexer\u001b[0m\u001b[0;34m\u001b[0m\u001b[0;34m\u001b[0m\u001b[0m\n",
            "\u001b[0;32m/usr/local/lib/python3.6/dist-packages/pandas/core/indexing.py\u001b[0m in \u001b[0;36m_validate_read_indexer\u001b[0;34m(self, key, indexer, axis, raise_missing)\u001b[0m\n\u001b[1;32m   1175\u001b[0m                 raise KeyError(\n\u001b[1;32m   1176\u001b[0m                     \"None of [{key}] are in the [{axis}]\".format(\n\u001b[0;32m-> 1177\u001b[0;31m                         \u001b[0mkey\u001b[0m\u001b[0;34m=\u001b[0m\u001b[0mkey\u001b[0m\u001b[0;34m,\u001b[0m \u001b[0maxis\u001b[0m\u001b[0;34m=\u001b[0m\u001b[0mself\u001b[0m\u001b[0;34m.\u001b[0m\u001b[0mobj\u001b[0m\u001b[0;34m.\u001b[0m\u001b[0m_get_axis_name\u001b[0m\u001b[0;34m(\u001b[0m\u001b[0maxis\u001b[0m\u001b[0;34m)\u001b[0m\u001b[0;34m\u001b[0m\u001b[0;34m\u001b[0m\u001b[0m\n\u001b[0m\u001b[1;32m   1178\u001b[0m                     )\n\u001b[1;32m   1179\u001b[0m                 )\n",
            "\u001b[0;31mKeyError\u001b[0m: \"None of [Index([('store_number', 'county_number', 'category', 'vendor_number'), ('store_name', 'county', 'category_name', 'vendor_name')], dtype='object')] are in the [columns]\""
          ]
        }
      ]
    },
    {
      "cell_type": "code",
      "metadata": {
        "id": "_iUCwqJRzJRi",
        "colab_type": "code",
        "colab": {
          "base_uri": "https://localhost:8080/",
          "height": 411
        },
        "outputId": "76bc5c5f-e3c1-4ec7-97ca-97a1d3b0e586"
      },
      "source": [
        "df.head()"
      ],
      "execution_count": 75,
      "outputs": [
        {
          "output_type": "execute_result",
          "data": {
            "text/html": [
              "<div>\n",
              "<style scoped>\n",
              "    .dataframe tbody tr th:only-of-type {\n",
              "        vertical-align: middle;\n",
              "    }\n",
              "\n",
              "    .dataframe tbody tr th {\n",
              "        vertical-align: top;\n",
              "    }\n",
              "\n",
              "    .dataframe thead th {\n",
              "        text-align: right;\n",
              "    }\n",
              "</style>\n",
              "<table border=\"1\" class=\"dataframe\">\n",
              "  <thead>\n",
              "    <tr style=\"text-align: right;\">\n",
              "      <th></th>\n",
              "      <th>invoice_and_item_number</th>\n",
              "      <th>date</th>\n",
              "      <th>store_number</th>\n",
              "      <th>store_name</th>\n",
              "      <th>address</th>\n",
              "      <th>city</th>\n",
              "      <th>zip_code</th>\n",
              "      <th>store_location</th>\n",
              "      <th>county_number</th>\n",
              "      <th>county</th>\n",
              "      <th>category</th>\n",
              "      <th>category_name</th>\n",
              "      <th>vendor_number</th>\n",
              "      <th>vendor_name</th>\n",
              "      <th>item_number</th>\n",
              "      <th>item_description</th>\n",
              "      <th>pack</th>\n",
              "      <th>bottle_volume_ml</th>\n",
              "      <th>state_bottle_cost</th>\n",
              "      <th>state_bottle_retail</th>\n",
              "      <th>bottles_sold</th>\n",
              "      <th>sale_dollars</th>\n",
              "      <th>volume_sold_liters</th>\n",
              "      <th>volume_sold_gallons</th>\n",
              "      <th>season</th>\n",
              "      <th>longtitude</th>\n",
              "      <th>latitude</th>\n",
              "    </tr>\n",
              "  </thead>\n",
              "  <tbody>\n",
              "    <tr>\n",
              "      <th>0</th>\n",
              "      <td>INV-23318300043</td>\n",
              "      <td>2019-11-19</td>\n",
              "      <td>3494</td>\n",
              "      <td>Sam's Club 6514 / Waterloo</td>\n",
              "      <td>210 East Tower Park Dr</td>\n",
              "      <td>Waterloo</td>\n",
              "      <td>50702</td>\n",
              "      <td>[-92.353103, 42.456374]</td>\n",
              "      <td>7</td>\n",
              "      <td>BLACK HAWK</td>\n",
              "      <td>1092100</td>\n",
              "      <td>Imported Distilled Spirit Specialty</td>\n",
              "      <td>421</td>\n",
              "      <td>SAZERAC COMPANY  INC</td>\n",
              "      <td>77487</td>\n",
              "      <td>Tortilla Gold DSS</td>\n",
              "      <td>12</td>\n",
              "      <td>1000</td>\n",
              "      <td>4.85</td>\n",
              "      <td>7.28</td>\n",
              "      <td>768</td>\n",
              "      <td>5591.04</td>\n",
              "      <td>768.00</td>\n",
              "      <td>202.88</td>\n",
              "      <td>autumn</td>\n",
              "      <td>-92.3531</td>\n",
              "      <td>42.4564</td>\n",
              "    </tr>\n",
              "    <tr>\n",
              "      <th>1</th>\n",
              "      <td>INV-19459100002</td>\n",
              "      <td>2019-05-20</td>\n",
              "      <td>2614</td>\n",
              "      <td>Hy-Vee #3 Food &amp; Drugstore / Davenport</td>\n",
              "      <td>1823 E Kimberly Rd</td>\n",
              "      <td>Davenport</td>\n",
              "      <td>52807</td>\n",
              "      <td>[-90.548919, 41.55678100000001]</td>\n",
              "      <td>82</td>\n",
              "      <td>SCOTT</td>\n",
              "      <td>1901200</td>\n",
              "      <td>Special Order Items</td>\n",
              "      <td>259</td>\n",
              "      <td>Heaven Hill Brands</td>\n",
              "      <td>941294</td>\n",
              "      <td>SOOH Burnetts Peach</td>\n",
              "      <td>12</td>\n",
              "      <td>750</td>\n",
              "      <td>4.48</td>\n",
              "      <td>6.72</td>\n",
              "      <td>24</td>\n",
              "      <td>161.28</td>\n",
              "      <td>18.00</td>\n",
              "      <td>4.75</td>\n",
              "      <td>spring</td>\n",
              "      <td>-90.5489</td>\n",
              "      <td>41.5568</td>\n",
              "    </tr>\n",
              "    <tr>\n",
              "      <th>2</th>\n",
              "      <td>INV-19464700001</td>\n",
              "      <td>2019-05-20</td>\n",
              "      <td>5298</td>\n",
              "      <td>DeWitt Travel Mart</td>\n",
              "      <td>630, 6th Ave</td>\n",
              "      <td>DeWitt</td>\n",
              "      <td>52742</td>\n",
              "      <td>[-90.538952, 41.821779]</td>\n",
              "      <td>23</td>\n",
              "      <td>CLINTON</td>\n",
              "      <td>1701100</td>\n",
              "      <td>Temporary &amp; Specialty Packages</td>\n",
              "      <td>085</td>\n",
              "      <td>Brown Forman Corp.</td>\n",
              "      <td>22219</td>\n",
              "      <td>Woodford Reserve Kentucky Derby 2019</td>\n",
              "      <td>6</td>\n",
              "      <td>1000</td>\n",
              "      <td>26.49</td>\n",
              "      <td>39.74</td>\n",
              "      <td>6</td>\n",
              "      <td>238.44</td>\n",
              "      <td>6.00</td>\n",
              "      <td>1.58</td>\n",
              "      <td>spring</td>\n",
              "      <td>-90.5390</td>\n",
              "      <td>41.8218</td>\n",
              "    </tr>\n",
              "    <tr>\n",
              "      <th>3</th>\n",
              "      <td>INV-23540600001</td>\n",
              "      <td>2019-11-27</td>\n",
              "      <td>4312</td>\n",
              "      <td>I-80 Liquor / Council Bluffs</td>\n",
              "      <td>2411 S 24TH ST #1</td>\n",
              "      <td>Council Bluffs</td>\n",
              "      <td>51501</td>\n",
              "      <td>[-95.8792, 41.238092]</td>\n",
              "      <td>78</td>\n",
              "      <td>POTTAWATTA</td>\n",
              "      <td>1701100</td>\n",
              "      <td>Temporary &amp; Specialty Packages</td>\n",
              "      <td>035</td>\n",
              "      <td>BACARDI USA INC</td>\n",
              "      <td>1488</td>\n",
              "      <td>Grey Goose w/2 Martini Glasses</td>\n",
              "      <td>6</td>\n",
              "      <td>750</td>\n",
              "      <td>18.49</td>\n",
              "      <td>27.74</td>\n",
              "      <td>30</td>\n",
              "      <td>832.20</td>\n",
              "      <td>22.50</td>\n",
              "      <td>5.94</td>\n",
              "      <td>autumn</td>\n",
              "      <td>-95.8792</td>\n",
              "      <td>41.2381</td>\n",
              "    </tr>\n",
              "    <tr>\n",
              "      <th>4</th>\n",
              "      <td>INV-19690100011</td>\n",
              "      <td>2019-05-30</td>\n",
              "      <td>5688</td>\n",
              "      <td>Dyno's #40 / Spencer</td>\n",
              "      <td>1001 S Grand Ave</td>\n",
              "      <td>Spencer</td>\n",
              "      <td>51301</td>\n",
              "      <td>[-95.143701, 43.12759]</td>\n",
              "      <td>21</td>\n",
              "      <td>CLAY</td>\n",
              "      <td>1701100</td>\n",
              "      <td>Temporary &amp; Specialty Packages</td>\n",
              "      <td>370</td>\n",
              "      <td>PERNOD RICARD USA</td>\n",
              "      <td>15727</td>\n",
              "      <td>Jameson Caskmates Stout Mini</td>\n",
              "      <td>10</td>\n",
              "      <td>50</td>\n",
              "      <td>7.92</td>\n",
              "      <td>11.88</td>\n",
              "      <td>1</td>\n",
              "      <td>11.88</td>\n",
              "      <td>0.05</td>\n",
              "      <td>0.01</td>\n",
              "      <td>spring</td>\n",
              "      <td>-95.1437</td>\n",
              "      <td>43.1276</td>\n",
              "    </tr>\n",
              "  </tbody>\n",
              "</table>\n",
              "</div>"
            ],
            "text/plain": [
              "  invoice_and_item_number       date store_number  ...  season longtitude latitude\n",
              "0         INV-23318300043 2019-11-19         3494  ...  autumn   -92.3531  42.4564\n",
              "1         INV-19459100002 2019-05-20         2614  ...  spring   -90.5489  41.5568\n",
              "2         INV-19464700001 2019-05-20         5298  ...  spring   -90.5390  41.8218\n",
              "3         INV-23540600001 2019-11-27         4312  ...  autumn   -95.8792  41.2381\n",
              "4         INV-19690100011 2019-05-30         5688  ...  spring   -95.1437  43.1276\n",
              "\n",
              "[5 rows x 27 columns]"
            ]
          },
          "metadata": {
            "tags": []
          },
          "execution_count": 75
        }
      ]
    },
    {
      "cell_type": "code",
      "metadata": {
        "id": "O6k79wMqoud5",
        "colab_type": "code",
        "colab": {}
      },
      "source": [
        "df.drop(columns=['address', 'store_location'])"
      ],
      "execution_count": 0,
      "outputs": []
    },
    {
      "cell_type": "code",
      "metadata": {
        "id": "uRxyN9B_odQS",
        "colab_type": "code",
        "colab": {
          "base_uri": "https://localhost:8080/",
          "height": 221
        },
        "outputId": "6c71c441-42a6-4d79-face-10604063dce6"
      },
      "source": [
        "df.store_name.value_counts()"
      ],
      "execution_count": 23,
      "outputs": [
        {
          "output_type": "execute_result",
          "data": {
            "text/plain": [
              "Hy-Vee #3 / BDI / Des Moines           21787\n",
              "Central City 2                         17816\n",
              "Central City Liquor, Inc.              15706\n",
              "Hy-Vee Food Store / Cedar Falls        15044\n",
              "Hy-Vee Wine and Spirits / Iowa City    13503\n",
              "                                       ...  \n",
              "Katy Did's General Store                   9\n",
              "Hometown Foods - Conrad                    9\n",
              "Templeton Distilling LLC                   4\n",
              "Iowa Legendary Rye                         4\n",
              "Paradise Distilling Company                2\n",
              "Name: store_name, Length: 1759, dtype: int64"
            ]
          },
          "metadata": {
            "tags": []
          },
          "execution_count": 23
        }
      ]
    },
    {
      "cell_type": "code",
      "metadata": {
        "id": "hSCFuQ14m5Mm",
        "colab_type": "code",
        "colab": {}
      },
      "source": [
        "df.drop(columns=[])"
      ],
      "execution_count": 0,
      "outputs": []
    },
    {
      "cell_type": "code",
      "metadata": {
        "id": "4j5hJvHcm5fT",
        "colab_type": "code",
        "colab": {
          "base_uri": "https://localhost:8080/",
          "height": 442
        },
        "outputId": "11310407-e586-4e7e-acbd-2ecc219611d6"
      },
      "source": [
        ""
      ],
      "execution_count": 13,
      "outputs": [
        {
          "output_type": "execute_result",
          "data": {
            "text/plain": [
              "invoice_and_item_number     object\n",
              "date                        object\n",
              "store_number                object\n",
              "store_name                  object\n",
              "address                     object\n",
              "city                        object\n",
              "zip_code                    object\n",
              "store_location              object\n",
              "county_number               object\n",
              "county                      object\n",
              "category                    object\n",
              "category_name               object\n",
              "vendor_number               object\n",
              "vendor_name                 object\n",
              "item_number                 object\n",
              "item_description            object\n",
              "pack                         int64\n",
              "bottle_volume_ml             int64\n",
              "state_bottle_cost          float64\n",
              "state_bottle_retail        float64\n",
              "bottles_sold                 int64\n",
              "sale_dollars               float64\n",
              "volume_sold_liters         float64\n",
              "volume_sold_gallons        float64\n",
              "dtype: object"
            ]
          },
          "metadata": {
            "tags": []
          },
          "execution_count": 13
        }
      ]
    },
    {
      "cell_type": "code",
      "metadata": {
        "id": "VJURlTQunI_D",
        "colab_type": "code",
        "colab": {}
      },
      "source": [
        ""
      ],
      "execution_count": 0,
      "outputs": []
    },
    {
      "cell_type": "code",
      "metadata": {
        "id": "IlrED4_VnJCe",
        "colab_type": "code",
        "colab": {}
      },
      "source": [
        ""
      ],
      "execution_count": 0,
      "outputs": []
    },
    {
      "cell_type": "code",
      "metadata": {
        "id": "HzcAa1hZnJI1",
        "colab_type": "code",
        "colab": {}
      },
      "source": [
        ""
      ],
      "execution_count": 0,
      "outputs": []
    },
    {
      "cell_type": "code",
      "metadata": {
        "id": "jWP_sj0aGaKp",
        "colab_type": "code",
        "colab": {
          "base_uri": "https://localhost:8080/",
          "height": 34
        },
        "outputId": "f5cc16ac-bf78-41c7-9830-27b3777fc294"
      },
      "source": [
        "df.shape"
      ],
      "execution_count": 11,
      "outputs": [
        {
          "output_type": "execute_result",
          "data": {
            "text/plain": [
              "(2380345, 24)"
            ]
          },
          "metadata": {
            "tags": []
          },
          "execution_count": 11
        }
      ]
    },
    {
      "cell_type": "code",
      "metadata": {
        "id": "FYVOegcgNKPU",
        "colab_type": "code",
        "colab": {
          "base_uri": "https://localhost:8080/",
          "height": 34
        },
        "outputId": "b98c19b2-5d73-45d3-9b40-9a66e1b00db2"
      },
      "source": [
        "df.shape"
      ],
      "execution_count": 12,
      "outputs": [
        {
          "output_type": "execute_result",
          "data": {
            "text/plain": [
              "(2380345, 24)"
            ]
          },
          "metadata": {
            "tags": []
          },
          "execution_count": 12
        }
      ]
    },
    {
      "cell_type": "markdown",
      "metadata": {
        "id": "j3BgxJpCmPnQ",
        "colab_type": "text"
      },
      "source": [
        "invoice_and_item_number\tSTRING\tNULLABLE\tConcatenated invoice and line number associated with the liquor order. This provides a unique identifier for the individual liquor products included in the store order\n",
        "\n",
        "date\tDATE\tNULLABLE\tDate of order\n",
        "\n",
        "store_number\tSTRING\tNULLABLE\tUnique number assigned to the store who ordered the liquor.\n",
        "\n",
        "store_name\tSTRING\tNULLABLE\tName of store who ordered the liquor.\n",
        "\n",
        "address\tSTRING\tNULLABLE\tAddress of store who ordered the liquor.\n",
        "\n",
        "city\tSTRING\tNULLABLE\tCity where the store who ordered the liquor is located\n",
        "\n",
        "zip_code\tSTRING\tNULLABLE\tZip code where the store who ordered the liquor is located\n",
        "\n",
        "store_location\tSTRING\tNULLABLE\tLocation of store who ordered the liquor. The Address, City, State and Zip Code are geocoded to provide geographic coordinates. Accuracy of geocoding is dependent on how well the address is interpreted and the completeness of the reference data used.\n",
        "\n",
        "county_number\tSTRING\tNULLABLE\tIowa county number for the county where store who ordered the liquor is located\n",
        "\n",
        "county\tSTRING\tNULLABLE\tCounty where the store who ordered the liquor is located\n",
        "\n",
        "category\tSTRING\tNULLABLE\tCategory code associated with the liquor ordered\n",
        "\n",
        "category_name\tSTRING\tNULLABLE\tCategory of the liquor ordered.\n",
        "\n",
        "vendor_number\tSTRING\tNULLABLE\tThe vendor number of the company for the brand of liquor ordered\n",
        "\n",
        "vendor_name\tSTRING\tNULLABLE\tThe vendor name of the company for the brand of liquor ordered\n",
        "\n",
        "item_number\tSTRING\tNULLABLE\tItem number for the individual liquor product ordered.\n",
        "\n",
        "item_description\tSTRING\tNULLABLE\tDescription of the individual liquor product ordered.\n",
        "\n",
        "pack\tINTEGER\tNULLABLE\tThe number of bottles in a case for the liquor ordered\n",
        "\n",
        "bottle_volume_ml\tINTEGER\tNULLABLE\tVolume of each liquor bottle ordered in milliliters.\n",
        "\n",
        "state_bottle_cost\tFLOAT\tNULLABLE\tThe amount that Alcoholic Beverages Division paid for each bottle of liquor ordered\n",
        "\n",
        "state_bottle_retail\tFLOAT\tNULLABLE\tThe amount the store paid for each bottle of liquor ordered\n",
        "\n",
        "bottles_sold\tINTEGER\tNULLABLE\tThe number of bottles of liquor ordered by the store\n",
        "\n",
        "sale_dollars\tFLOAT\tNULLABLE\tTotal cost of liquor order (number of bottles multiplied by the state bottle retail)\n",
        "\n",
        "volume_sold_liters\tFLOAT\tNULLABLE\tTotal volume of liquor ordered in liters. (i.e. (Bottle Volume (ml) x Bottles Sold)/1,000)\n",
        "\n",
        "volume_sold_gallons\tFLOAT\tNULLABLE\tTotal volume of liquor ordered in gallons. (i.e. (Bottle Volume (ml) x Bottles Sold)/3785.411784)"
      ]
    },
    {
      "cell_type": "code",
      "metadata": {
        "id": "dJj5Z8-mNxHS",
        "colab_type": "code",
        "colab": {}
      },
      "source": [
        ""
      ],
      "execution_count": 0,
      "outputs": []
    }
  ]
}